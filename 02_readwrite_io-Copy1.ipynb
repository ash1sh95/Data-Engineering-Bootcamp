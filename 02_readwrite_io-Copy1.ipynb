{
 "cells": [
  {
   "cell_type": "markdown",
   "metadata": {},
   "source": [
    "## I/O: Reading and Writing Data\n",
    "\n",
    "The most standard use of pandas is to read and write data files. Pandas provides a series of [built-in I/O functions](https://pandas.pydata.org/pandas-docs/stable/user_guide/io.html) to read and write data from various files formats; making it the defacto standard tool to convert files formats.\n",
    "\n",
    "Pandas is often used to read data from basic internet and SQL files formats such as CSVs and Json files and transform them into **Big Data** formats such as **Parguet, ORC, BigQuery**, and other formats.\n",
    "\n",
    "### Reading CSV\n",
    "\n",
    "Amongst pandas [built-in readers](https://pandas.pydata.org/pandas-docs/stable/user_guide/io.html)you can use `read_csv` to import data from a dleimited file:\n",
    "\n",
    ":::tip `flights.csv` \n",
    "\n",
    "Data files for this lesson are included under `data/` forlder. The `flights.csv` files contains all domestic (USA) flights for 2019 Thanksgiving Day. These are real flight records from United States Beauru of Transportation.\n",
    "\n",
    ":::\n",
    "\n",
    "<br/>\n"
   ]
  },
  {
   "cell_type": "code",
   "execution_count": 1,
   "metadata": {},
   "outputs": [
    {
     "name": "stdout",
     "output_type": "stream",
     "text": [
      "  flight_date airline tailnumber  flight_number  src dest  departure_time  \\\n",
      "0  2019-11-28      9E     N8974C           3280  CHA  DTW            1300   \n",
      "1  2019-11-28      9E     N901XJ           3281  JAX  RDU             700   \n",
      "2  2019-11-28      9E     N901XJ           3282  RDU  LGA             900   \n",
      "3  2019-11-28      9E     N912XJ           3283  DTW  ATW            1216   \n",
      "4  2019-11-28      9E     N924XJ           3284  DSM  MSP            1103   \n",
      "\n",
      "   arrival_time  flight_time  distance  \n",
      "0          1455        115.0     505.0  \n",
      "1           824         84.0     407.0  \n",
      "2          1039         99.0     431.0  \n",
      "3          1242         86.0     296.0  \n",
      "4          1211         68.0     232.0  \n"
     ]
    }
   ],
   "source": [
    "import pandas as pd\n",
    "\n",
    "flights = pd.read_csv('../data/flights.csv', header=0)\n",
    "print(flights.head())"
   ]
  },
  {
   "cell_type": "markdown",
   "metadata": {},
   "source": [
    "`read_csv` methods provides a series of options to parse csv files correctly. The `header` option is used to extract column names from a csv header row. `header=0` marks the first row of csv (row 0) as the header row.\n",
    "\n",
    "Feel free to set other options:"
   ]
  },
  {
   "cell_type": "code",
   "execution_count": 2,
   "metadata": {},
   "outputs": [
    {
     "name": "stdout",
     "output_type": "stream",
     "text": [
      "  airline  src dest\n",
      "0      9E  CHA  DTW\n",
      "1      9E  JAX  RDU\n",
      "2      9E  RDU  LGA\n",
      "3      9E  DTW  ATW\n",
      "4      9E  DSM  MSP\n"
     ]
    }
   ],
   "source": [
    "import pandas as pd\n",
    "\n",
    "# setting separator and line terminator characters\n",
    "flights = pd.read_csv('../data/flights.csv', header=0, sep=',', lineterminator='\\n')\n",
    "\n",
    "# reading only 10 rows and selected columns\n",
    "flights = pd.read_csv('../data/flights.csv', header=0, nrows=10, \n",
    "                      usecols=['airline', 'src', 'dest'])\n",
    "\n",
    "# print\n",
    "print(flights.head())"
   ]
  },
  {
   "cell_type": "markdown",
   "metadata": {},
   "source": [
    ":::info `read_csv` options\n",
    "\n",
    "For the full list of available `read_csv` options refer to the online \n",
    "[documentation](https://pandas.pydata.org/pandas-docs/stable/reference/api/pandas.read_csv.html)\n",
    "\n",
    ":::\n",
    "\n",
    "<br/>\n",
    "\n",
    "### Assigning data types\n",
    "\n",
    "You can set column data types using the `dtype` option:"
   ]
  },
  {
   "cell_type": "code",
   "execution_count": 4,
   "metadata": {},
   "outputs": [
    {
     "name": "stdout",
     "output_type": "stream",
     "text": [
      "  flight_date airline tailnumber  flight_number  src dest  departure_time  \\\n",
      "0  2019-11-28      9E     N8974C           3280  CHA  DTW            1300   \n",
      "1  2019-11-28      9E     N901XJ           3281  JAX  RDU             700   \n",
      "2  2019-11-28      9E     N901XJ           3282  RDU  LGA             900   \n",
      "3  2019-11-28      9E     N912XJ           3283  DTW  ATW            1216   \n",
      "4  2019-11-28      9E     N924XJ           3284  DSM  MSP            1103   \n",
      "5  2019-11-28      9E     N833AY           3285  LGA  PWM            1013   \n",
      "6  2019-11-28      9E     N314PQ           3286  CLE  DTW            1400   \n",
      "7  2019-11-28      9E     N686BR           3288  DTW  LAN            1227   \n",
      "8  2019-11-28      9E     N686BR           3288  LAN  DTW            1350   \n",
      "9  2019-11-28      9E     N147PQ           3289  JFK  ROC            2100   \n",
      "\n",
      "   arrival_time  flight_time  distance  \n",
      "0          1455          115       505  \n",
      "1           824           84       407  \n",
      "2          1039           99       431  \n",
      "3          1242           86       296  \n",
      "4          1211           68       232  \n",
      "5          1144           91       269  \n",
      "6          1502           62        95  \n",
      "7          1314           47        74  \n",
      "8          1440           50        74  \n",
      "9          2233           93       264  \n"
     ]
    }
   ],
   "source": [
    "import pandas as pd\n",
    "import numpy as np\n",
    "\n",
    "# using `dtype` to assign particular column data types\n",
    "flights = pd.read_csv('../data/flights.csv', header=0,\n",
    "                      dtype={\n",
    "                          'flight_time': np.int16,\n",
    "                          'distance': np.int16\n",
    "                      })\n",
    "\n",
    "# print\n",
    "print(flights.head(10))"
   ]
  },
  {
   "cell_type": "markdown",
   "metadata": {},
   "source": [
    "Data types are typically set as numpy types. The dtype parameter is specifically handy since it allows you to set specific columns and leave the rest for pandas to figure out.\n",
    "\n",
    "### Using Converters\n",
    "\n",
    "The most convinient way to parse special columns and apply business rules to transform fields at ingest is using the `converters` option of `read_csv`.\n",
    "\n",
    "You can use specific function to parse special fields. In this case we use a couple functions called `decode_flightdate` and `decode_tailnumber` to parse flight dates and drop the initial letter 'N' from tailnumber. We also show that you can use `lambda` functions as converters:\n",
    "\n",
    "<br/>\n"
   ]
  },
  {
   "cell_type": "code",
   "execution_count": 5,
   "metadata": {},
   "outputs": [
    {
     "name": "stdout",
     "output_type": "stream",
     "text": [
      "  flight_date airline tailnumber  flight_number  src dest  departure_time  \\\n",
      "0  2019-11-28      9E      8974C           3280  CHA  DTW            1300   \n",
      "1  2019-11-28      9E      901XJ           3281  JAX  RDU             700   \n",
      "2  2019-11-28      9E      901XJ           3282  RDU  LGA             900   \n",
      "3  2019-11-28      9E      912XJ           3283  DTW  ATW            1216   \n",
      "4  2019-11-28      9E      924XJ           3284  DSM  MSP            1103   \n",
      "5  2019-11-28      9E      833AY           3285  LGA  PWM            1013   \n",
      "6  2019-11-28      9E      314PQ           3286  CLE  DTW            1400   \n",
      "7  2019-11-28      9E      686BR           3288  DTW  LAN            1227   \n",
      "8  2019-11-28      9E      686BR           3288  LAN  DTW            1350   \n",
      "9  2019-11-28      9E      147PQ           3289  JFK  ROC            2100   \n",
      "\n",
      "   arrival_time  flight_time  distance  \n",
      "0          1455          115       505  \n",
      "1           824           84       407  \n",
      "2          1039           99       431  \n",
      "3          1242           86       296  \n",
      "4          1211           68       232  \n",
      "5          1144           91       269  \n",
      "6          1502           62        95  \n",
      "7          1314           47        74  \n",
      "8          1440           50        74  \n",
      "9          2233           93       264  \n"
     ]
    }
   ],
   "source": [
    "import pandas as pd\n",
    "from datetime import datetime\n",
    "\n",
    "def decode_flightdate(value:str):\n",
    "    try:\n",
    "        return datetime.strptime(value, '%Y-%m-%d').date()\n",
    "    except (ValueError, TypeError):\n",
    "        return None\n",
    "\n",
    "def decode_tailnumber(value:str):\n",
    "    if str(value).startswith('N'):\n",
    "        return str(value)[1:]\n",
    "    else:\n",
    "        return str(value)\n",
    "\n",
    "# using `converters` to pass functions to parse fields\n",
    "flights = pd.read_csv('../data/flights.csv', header=0,\n",
    "                      converters={\n",
    "                          'flight_time': decode_flightdate,\n",
    "                          'tailnumber': decode_tailnumber,\n",
    "                          'flight_time': (lambda v: int(float(v))),\n",
    "                          'distance': (lambda v: int(float(v))),\n",
    "                      })\n",
    "\n",
    "# print\n",
    "print(flights.head(10))"
   ]
  },
  {
   "cell_type": "markdown",
   "metadata": {},
   "source": [
    ":::tip Using `converters` functoins\n",
    "\n",
    "We highly recommend using the converter funtions for parsing and applying business rules and cleansing rules at parse time with read_csv.\n",
    "\n",
    ":::\n",
    "\n",
    "### Writing Data\n",
    "\n",
    "Pandas provides a series of [I/O write funtions](https://pandas.pydata.org/pandas-docs/stable/user_guide/io.html). You can read the documentaion to use appropriate function for your use-case. \n",
    "\n",
    "Here we're going to write our flights into both **Json Row** and **Parquet** formats:\n"
   ]
  },
  {
   "cell_type": "code",
   "execution_count": 6,
   "metadata": {},
   "outputs": [
    {
     "name": "stdout",
     "output_type": "stream",
     "text": [
      "done.\n"
     ]
    }
   ],
   "source": [
    "import pandas as pd\n",
    "\n",
    "# read csv\n",
    "flights = pd.read_csv('../data/flights.csv', header=0)\n",
    "\n",
    "# write json row format\n",
    "flights.to_json('../data/flights.json', orient='records', lines=True)\n",
    "# write compressed parquet format\n",
    "flights.to_parquet('../data/flights.parquet', engine='pyarrow', \n",
    "                   compression='gzip', index=False)\n",
    "\n",
    "print('done.')"
   ]
  },
  {
   "cell_type": "code",
   "execution_count": null,
   "metadata": {},
   "outputs": [],
   "source": []
  }
 ],
 "metadata": {
  "kernelspec": {
   "display_name": "Python 3",
   "language": "python",
   "name": "python3"
  },
  "language_info": {
   "codemirror_mode": {
    "name": "ipython",
    "version": 3
   },
   "file_extension": ".py",
   "mimetype": "text/x-python",
   "name": "python",
   "nbconvert_exporter": "python",
   "pygments_lexer": "ipython3",
   "version": "3.7.9"
  }
 },
 "nbformat": 4,
 "nbformat_minor": 4
}
