{
 "cells": [
  {
   "cell_type": "markdown",
   "metadata": {},
   "source": [
    "## Schema Manipulation\n",
    "\n",
    "<br/>\n",
    "\n",
    "### Renaming and Dropping\n",
    "\n",
    "You often need to rename or drop columns. Further you might also want to remove rows from your Dataframe. The example below shows you how to do this:"
   ]
  },
  {
   "cell_type": "code",
   "execution_count": null,
   "metadata": {},
   "outputs": [],
   "source": [
    "import pandas as pd\n",
    "\n",
    "# read data fom csv\n",
    "flights = pd.read_csv('../data/flights.csv', header=0)\n",
    "\n",
    "# rename dataframe column \n",
    "flights.rename(columns={'flight_date': 'fdate', \n",
    "                        'flight_number': 'fnum',\n",
    "                        'tailnumber': 'tailnum'}, inplace=True, errors='ignore')\n",
    "\n",
    "# drop columns\n",
    "flights.drop(columns=['flight_time', 'distance'], inplace=True, errors='ignore')\n",
    "\n",
    "# remove rows - removing rows 0-3 by their label (index)\n",
    "flights.drop(labels=[0,1,2], inplace=True, errors='ignore')\n"
   ]
  },
  {
   "cell_type": "markdown",
   "metadata": {},
   "source": [
    "### Set and Reset Index\n",
    "\n",
    "You can always set and reset the index column in a Dataframe. Pandas provides a series of methods to do this. The most common method is to use the `.set_index()` method:"
   ]
  },
  {
   "cell_type": "code",
   "execution_count": null,
   "metadata": {},
   "outputs": [],
   "source": [
    "import pandas as pd\n",
    "\n",
    "# read data fom csv\n",
    "flights = pd.read_csv('../data/flights.csv', header=0)\n",
    "\n",
    "# create a flight_key column by concatenating airline, flight_number, src, and dest\n",
    "flights['flight_key'] = flights.apply(\n",
    "    (lambda r: f\"{r.airline}{r.flight_number}-{r.src}-{r.dest}\"),\n",
    "    axis=1)\n",
    "\n",
    "# set the index to the new flight_key column\n",
    "flights.set_index(keys=['flight_key'], inplace=True)\n",
    "\n",
    "# print flight 6122 DCA to BOS\n",
    "flights.loc['YX6122-DCA-BOS']\n"
   ]
  },
  {
   "cell_type": "markdown",
   "metadata": {},
   "source": [
    "You can reset index columns back into the Dataframe by using the `.reset_index()` method:"
   ]
  },
  {
   "cell_type": "code",
   "execution_count": null,
   "metadata": {},
   "outputs": [],
   "source": [
    "# you can reset indexed columns back into the dataframe by:\n",
    "flights.reset_index(inplace=True)\n",
    "flights"
   ]
  }
 ],
 "metadata": {
  "kernelspec": {
   "display_name": "Python 3",
   "language": "python",
   "name": "python3"
  },
  "language_info": {
   "codemirror_mode": {
    "name": "ipython",
    "version": 3
   },
   "file_extension": ".py",
   "mimetype": "text/x-python",
   "name": "python",
   "nbconvert_exporter": "python",
   "pygments_lexer": "ipython3",
   "version": "3.7.9"
  }
 },
 "nbformat": 4,
 "nbformat_minor": 4
}
