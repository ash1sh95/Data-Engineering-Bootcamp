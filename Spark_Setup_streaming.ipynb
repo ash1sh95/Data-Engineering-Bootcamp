{
  "nbformat": 4,
  "nbformat_minor": 0,
  "metadata": {
    "colab": {
      "name": "Spark-Setup-streaming.ipynb",
      "provenance": []
    },
    "kernelspec": {
      "name": "python3",
      "display_name": "Python 3"
    }
  },
  "cells": [
    {
      "cell_type": "code",
      "metadata": {
        "id": "lH-CEgmmcTZK"
      },
      "source": [
        "!apt-get install openjdk-8-jdk-headless -qq > /dev/null"
      ],
      "execution_count": 26,
      "outputs": []
    },
    {
      "cell_type": "code",
      "metadata": {
        "id": "IG7u1Wtfc4O-"
      },
      "source": [
        "!wget -q https://www-us.apache.org/dist/spark/spark-3.0.1/spark-3.0.1-bin-hadoop2.7.tgz"
      ],
      "execution_count": 27,
      "outputs": []
    },
    {
      "cell_type": "code",
      "metadata": {
        "id": "Zs7vhADDc747"
      },
      "source": [
        "!tar xf spark-3.0.1-bin-hadoop2.7.tgz"
      ],
      "execution_count": 28,
      "outputs": []
    },
    {
      "cell_type": "code",
      "metadata": {
        "id": "7Qg33BU-dBH4"
      },
      "source": [
        "!pip install -q findspark"
      ],
      "execution_count": 29,
      "outputs": []
    },
    {
      "cell_type": "code",
      "metadata": {
        "id": "dfxvmActdIgB"
      },
      "source": [
        "import os\r\n",
        "os.environ[\"JAVA_HOME\"] = \"/usr/lib/jvm/java-8-openjdk-amd64\"\r\n",
        "os.environ[\"SPARK_HOME\"] = \"/content/spark-3.0.1-bin-hadoop2.7\""
      ],
      "execution_count": 30,
      "outputs": []
    },
    {
      "cell_type": "code",
      "metadata": {
        "id": "ExHvM1W0dPVB"
      },
      "source": [
        "import findspark\r\n",
        "findspark.init()"
      ],
      "execution_count": 31,
      "outputs": []
    },
    {
      "cell_type": "code",
      "metadata": {
        "colab": {
          "base_uri": "https://localhost:8080/",
          "height": 35
        },
        "id": "hpVoLJfjdRyE",
        "outputId": "04a50ef0-1eb1-48f8-989c-fefd16b74ae6"
      },
      "source": [
        "findspark.find()"
      ],
      "execution_count": 32,
      "outputs": [
        {
          "output_type": "execute_result",
          "data": {
            "application/vnd.google.colaboratory.intrinsic+json": {
              "type": "string"
            },
            "text/plain": [
              "'/content/spark-3.0.1-bin-hadoop2.7'"
            ]
          },
          "metadata": {
            "tags": []
          },
          "execution_count": 32
        }
      ]
    },
    {
      "cell_type": "code",
      "metadata": {
        "id": "30Vlb5Q2dUog"
      },
      "source": [
        "from pyspark.sql import SparkSession\r\n",
        "\r\n",
        "spark = SparkSession.builder\\\r\n",
        "        .master(\"local\")\\\r\n",
        "        .appName(\"Colab\")\\\r\n",
        "        .config('spark.ui.port', '4050')\\\r\n",
        "        .getOrCreate()"
      ],
      "execution_count": 33,
      "outputs": []
    },
    {
      "cell_type": "code",
      "metadata": {
        "colab": {
          "base_uri": "https://localhost:8080/",
          "height": 214
        },
        "id": "eS1-uGlIdqOd",
        "outputId": "a78a06f6-f72f-4fb6-edf8-3125606c3d5e"
      },
      "source": [
        "spark"
      ],
      "execution_count": 34,
      "outputs": [
        {
          "output_type": "execute_result",
          "data": {
            "text/html": [
              "\n",
              "            <div>\n",
              "                <p><b>SparkSession - hive</b></p>\n",
              "                \n",
              "        <div>\n",
              "            <p><b>SparkContext</b></p>\n",
              "\n",
              "            <p><a href=\"http://dc643a3768eb:4050\">Spark UI</a></p>\n",
              "\n",
              "            <dl>\n",
              "              <dt>Version</dt>\n",
              "                <dd><code>v3.0.1</code></dd>\n",
              "              <dt>Master</dt>\n",
              "                <dd><code>local</code></dd>\n",
              "              <dt>AppName</dt>\n",
              "                <dd><code>Colab</code></dd>\n",
              "            </dl>\n",
              "        </div>\n",
              "        \n",
              "            </div>\n",
              "        "
            ],
            "text/plain": [
              "<pyspark.sql.session.SparkSession at 0x7f20f1123ba8>"
            ]
          },
          "metadata": {
            "tags": []
          },
          "execution_count": 34
        }
      ]
    },
    {
      "cell_type": "code",
      "metadata": {
        "colab": {
          "base_uri": "https://localhost:8080/"
        },
        "id": "B5sDkRgvdsgD",
        "outputId": "16ce5582-71cd-4034-c1cb-82923ff01448"
      },
      "source": [
        "!wget https://bin.equinox.io/c/4VmDzA7iaHb/ngrok-stable-linux-amd64.zip\r\n",
        "!unzip ngrok-stable-linux-amd64.zip\r\n",
        "get_ipython().system_raw('./ngrok http 4050 &')\r\n",
        "!curl -s http://localhost:4040/api/tunnels"
      ],
      "execution_count": 35,
      "outputs": [
        {
          "output_type": "stream",
          "text": [
            "--2021-02-09 01:48:29--  https://bin.equinox.io/c/4VmDzA7iaHb/ngrok-stable-linux-amd64.zip\n",
            "Resolving bin.equinox.io (bin.equinox.io)... 3.211.152.205, 107.21.11.91, 54.235.211.105, ...\n",
            "Connecting to bin.equinox.io (bin.equinox.io)|3.211.152.205|:443... connected.\n",
            "HTTP request sent, awaiting response... 200 OK\n",
            "Length: 13773305 (13M) [application/octet-stream]\n",
            "Saving to: ‘ngrok-stable-linux-amd64.zip.2’\n",
            "\n",
            "ngrok-stable-linux- 100%[===================>]  13.13M  77.4MB/s    in 0.2s    \n",
            "\n",
            "2021-02-09 01:48:30 (77.4 MB/s) - ‘ngrok-stable-linux-amd64.zip.2’ saved [13773305/13773305]\n",
            "\n",
            "Archive:  ngrok-stable-linux-amd64.zip\n",
            "replace ngrok? [y]es, [n]o, [A]ll, [N]one, [r]ename: n\n",
            "{\"tunnels\":[{\"name\":\"command_line\",\"uri\":\"/api/tunnels/command_line\",\"public_url\":\"https://395a0ce9cf2a.ngrok.io\",\"proto\":\"https\",\"config\":{\"addr\":\"http://localhost:4050\",\"inspect\":true},\"metrics\":{\"conns\":{\"count\":0,\"gauge\":0,\"rate1\":0,\"rate5\":0,\"rate15\":0,\"p50\":0,\"p90\":0,\"p95\":0,\"p99\":0},\"http\":{\"count\":0,\"rate1\":0,\"rate5\":0,\"rate15\":0,\"p50\":0,\"p90\":0,\"p95\":0,\"p99\":0}}},{\"name\":\"command_line (http)\",\"uri\":\"/api/tunnels/command_line%20%28http%29\",\"public_url\":\"http://395a0ce9cf2a.ngrok.io\",\"proto\":\"http\",\"config\":{\"addr\":\"http://localhost:4050\",\"inspect\":true},\"metrics\":{\"conns\":{\"count\":0,\"gauge\":0,\"rate1\":0,\"rate5\":0,\"rate15\":0,\"p50\":0,\"p90\":0,\"p95\":0,\"p99\":0},\"http\":{\"count\":0,\"rate1\":0,\"rate5\":0,\"rate15\":0,\"p50\":0,\"p90\":0,\"p95\":0,\"p99\":0}}}],\"uri\":\"/api/tunnels\"}\n"
          ],
          "name": "stdout"
        }
      ]
    },
    {
      "cell_type": "code",
      "metadata": {
        "id": "dzuJr0VYdcyM"
      },
      "source": [
        "import io\r\n",
        "import csv\r\n",
        "import pandas as pd\r\n",
        "from pyspark import *\r\n",
        "from pyspark import SparkContext as sc, SparkConf\r\n",
        "from pyspark.python.pyspark.shell import spark\r\n",
        "from pyspark.sql.functions import *\r\n",
        "from pyspark.sql.session import SparkSession\r\n",
        "from pyspark.context import SparkContext\r\n",
        "from datetime import datetime\r\n",
        "from pyspark.sql.functions import udf, to_date, to_utc_timestamp, lit, col\r\n",
        "from pyspark.sql.types import StringType, DateType"
      ],
      "execution_count": 36,
      "outputs": []
    },
    {
      "cell_type": "code",
      "metadata": {
        "id": "NZmA5vh-eNEO"
      },
      "source": [
        "from pyspark import SparkContext\r\n",
        "import pyspark.sql.functions\r\n",
        "from pyspark.sql import SQLContext\r\n",
        "import pandas as pd\r\n",
        "from pyspark.sql import SparkSession"
      ],
      "execution_count": 37,
      "outputs": []
    },
    {
      "cell_type": "code",
      "metadata": {
        "id": "lkTUW8MVe99e"
      },
      "source": [
        "import findspark\r\n",
        "findspark.init()\r\n",
        "from pyspark.sql import SparkSession\r\n",
        "spark=  SparkSession.builder.master(\"local[*]\").getOrCreate()"
      ],
      "execution_count": 38,
      "outputs": []
    },
    {
      "cell_type": "code",
      "metadata": {
        "colab": {
          "resources": {
            "http://localhost:8080/nbextensions/google.colab/files.js": {
              "data": "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",
              "ok": true,
              "headers": [
                [
                  "content-type",
                  "application/javascript"
                ]
              ],
              "status": 200,
              "status_text": ""
            }
          },
          "base_uri": "https://localhost:8080/",
          "height": 110
        },
        "id": "bdx_SrxVfP70",
        "outputId": "60d558f9-ad7f-425f-a705-3772f3d1ab22"
      },
      "source": [
        "from google.colab import files\r\n",
        "files.upload()"
      ],
      "execution_count": 46,
      "outputs": [
        {
          "output_type": "display_data",
          "data": {
            "text/html": [
              "\n",
              "     <input type=\"file\" id=\"files-b8fe0dcd-d53b-4871-926e-ef38b7d8013e\" name=\"files[]\" multiple disabled\n",
              "        style=\"border:none\" />\n",
              "     <output id=\"result-b8fe0dcd-d53b-4871-926e-ef38b7d8013e\">\n",
              "      Upload widget is only available when the cell has been executed in the\n",
              "      current browser session. Please rerun this cell to enable.\n",
              "      </output>\n",
              "      <script src=\"/nbextensions/google.colab/files.js\"></script> "
            ],
            "text/plain": [
              "<IPython.core.display.HTML object>"
            ]
          },
          "metadata": {
            "tags": []
          }
        },
        {
          "output_type": "stream",
          "text": [
            "Saving passengers_1k.csv to passengers_1k.csv\n"
          ],
          "name": "stdout"
        },
        {
          "output_type": "execute_result",
          "data": {
            "text/plain": [
              "{'passengers_1k.csv': b'first_name,middle_name,last_name,gender,birthday,email\\nPatricio,,Manzanares,M,1953-10-04,patricio.manzanares@gmail.com\\nSof\\xc3\\xada,Lorena,Manzanares,F,1947-11-30,sof\\xc3\\xada.manzanares@hotmail.com\\nJaime,Emanuelly Heather,Tolentino,F,1984-07-10,jaime.tolentino@yahoo.com\\nOreste,Ajimin,Tolentino,M,1985-03-19,oreste.tolentino@gmail.com\\nAlexandre,John,Tolentino,T,2016-02-05,alexandre.tolentino@yahoo.com\\nAlessandra,Leonardo,Anderson,F,1968-05-31,alessandra.anderson@yahoo.com\\nMarvin,Joseph,Anderson,M,1966-07-30,marvin.anderson@yahoo.com\\nJosep,Michelotto,Anderson,GN,2015-11-17,josep.anderson@gmail.com\\nJennifer,Rebekah,Meyer,F,1983-09-05,jennifer.meyer@hotmail.com\\nVirginia,Rosita,Meza,F,1996-06-09,virginia.meza@yahoo.com\\nHeather,Amanda,Martins,F,1991-09-21,heather.martins@gmail.com\\nAldo,Viktor,Douglas,M,2000-02-09,aldo.douglas@hotmail.com\\nJonathan,,Jackson,M,2000-05-14,jonathan.jackson@walker.com\\nDarryl,Mandy,Schweizer,T,1985-06-17,darryl.schweizer@gmail.com\\nAlejandro,,Van\\xc4\\x9bk,M,1991-03-13,alejandro.van\\xc4\\x9bk@huffman.com\\nAne\\xc5\\xbeka,Sarah,Naser,F,1992-06-10,ane\\xc5\\xbeka.naser@byrd-ritter.info\\nDeanna,Sevim,Espada,F,1963-09-01,deanna.espada@oneal.com\\nNada,Ren\\xc3\\xa9,Rivero,F,1990-12-27,nada.rivero@hotmail.com\\nAnn,Sue,Rice,F,1991-01-22,ann.rice@hotmail.com\\nJuan,David,Redondo,M,1998-05-27,juan.redondo@miller.com\\nDaniela,Kimberly Jos\\xc3\\xa9 Eduardo,Garcia,F,1978-02-21,daniela.garcia@richardson.com\\nChristina,Helen Martha,Fuentes,F,2001-10-27,christina.fuentes@hotmail.com\\nJoseph,Breno,J\\xc3\\xa4ntsch,M,1987-01-27,joseph.j\\xc3\\xa4ntsch@gmail.com\\nAmy,Sheri,J\\xc3\\xa4ntsch,F,1988-02-20,amy.j\\xc3\\xa4ntsch@yahoo.com\\nCasey,Jessica,Abascal,F,1991-12-20,casey.abascal@yahoo.com\\nNathaniel,Kelsey Josefina,Dixon,NB,1991-07-28,nathaniel.dixon@yahoo.com\\nRom\\xc3\\xa1n,Joachim,Johnson,M,2004-08-19,rom\\xc3\\xa1n.johnson@gmail.com\\nAlexander,Noem\\xc3\\xad,D\\xc3\\xadaz,T,1988-08-17,alexander.d\\xc3\\xadaz@brown-lewis.com\\nKatie,Saturnina,Hernandez,F,1984-11-17,katie.hernandez@hotmail.com\\nLudovica,Cassandra,Valbuena,NA,1996-08-04,ludovica.valbuena@yahoo.com\\nIv\\xc3\\xa1n,Liliana Lindsey,Quintero,F,1951-03-16,iv\\xc3\\xa1n.quintero@yahoo.com\\n\\xc3\\x88ric,Frank Macario,Quintero,M,1950-11-28,\\xc3\\xa8ric.quintero@yahoo.com\\nEmanuel,Michael Adolfo,Thompson,M,1971-08-29,emanuel.thompson@gmail.com\\nTiffany,Donna,Thompson,F,1971-10-06,tiffany.thompson@hotmail.com\\nJos\\xc3\\xa9 Emilio,Kate\\xc5\\x99ina,Thompson,F,2017-08-27,jos\\xc3\\xa9.emilio.thompson@yahoo.com\\nAraceli,Elizabeth,Almanza,F,1986-05-08,araceli.almanza@hotmail.com\\nRuben,Luis,Almanza,M,1990-04-02,ruben.almanza@hotmail.com\\nLuc\\xc3\\xada,Jacqueline Jos\\xc3\\xa9 Manu\\xc3\\xa9l,Almanza,F,2014-11-20,luc\\xc3\\xada.almanza@yahoo.com\\nJoyce,Scott,Almanza,NB,2017-06-04,joyce.almanza@yahoo.com\\nShirley,Taylor Wendy,Almanza,F,2018-06-24,shirley.almanza@gmail.com\\nVal\\xc3\\xa8ria,Stacy,Lippomano,F,1999-06-13,val\\xc3\\xa8ria.lippomano@yahoo.com\\nRobert,Justin Tyler,Simpson,M,1977-10-23,robert.simpson@gmail.com\\nDavid,Sim\\xc3\\xb3n Terry,Rocha,M,1981-03-07,david.rocha@wolfe.com\\nRaul,,Bonilla,M,1986-11-24,raul.bonilla@gmail.com\\nEzio,Samuel,Gonzales,M,1983-04-05,ezio.gonzales@gonzalez.com\\nBrenda,Alessia Elizabeth,Galindo,T,1978-12-27,brenda.galindo@yahoo.com\\nLisa,Elizabeth,Novaes,F,1991-03-28,lisa.novaes@yahoo.com\\nJackson,Laureano,Collins,M,1996-03-04,jackson.collins@gmail.com\\nBethany,Cristina Isabel,Thompson,F,1985-01-30,bethany.thompson@yahoo.com\\nJorge Luis,John,Aramburu,M,1990-07-09,jorge.luis.aramburu@gmail.com\\nLucca,Sigfrido,Asenjo,M,1994-10-13,lucca.asenjo@hotmail.com\\nLoni,Francesca,Solsona,F,2000-12-25,loni.solsona@gmail.com\\nEmily,Maria Vit\\xc3\\xb3ria,White,F,1985-12-04,emily.white@gmail.com\\nRobert,Homero Joshua,Williams,M,1990-01-21,robert.williams@hotmail.com\\nGabriel,Austin,Erickson,M,1970-05-05,gabriel.erickson@yahoo.com\\nCarmen,Armando,Erickson,F,1968-10-23,carmen.erickson@hotmail.com\\nDerek,Crystal,Erickson,GN,2013-03-10,derek.erickson@hotmail.com\\nArcelia,Dominic Juan Antonio,Johnson,M,1952-10-17,arcelia.johnson@allen-floyd.net\\nPauline,,Robinson,F,1988-01-23,pauline.robinson@hotmail.com\\nJeremy,Luan,Robinson,M,1990-11-10,jeremy.robinson@hotmail.com\\nNatalie,Cassandra,Robinson,F,2011-04-08,natalie.robinson@gmail.com\\nZo\\xc3\\xa9,Benito,Robinson,M,2017-01-26,zo\\xc3\\xa9.robinson@hotmail.com\\nJody,Lisa,Robinson,F,2013-07-17,jody.robinson@hotmail.com\\nLuiza,Mar\\xc3\\xada Teresa,Robinson,F,2010-10-09,luiza.robinson@hotmail.com\\nAdelina,,Duarte,F,1999-09-30,adelina.duarte@gmail.com\\nLuis,Thomas,Spencer,M,1982-09-16,luis.spencer@hotmail.com\\nGraciela,Katerina Rosie,Marshall,F,1990-03-21,graciela.marshall@johnson.com\\nJuan Pablo,Donald,Benussi,M,1967-12-04,juan.pablo.benussi@vargas.org\\nCarla,Ana J\\xc3\\xbalia,Pelli,F,1983-03-01,carla.pelli@gmail.com\\nGangsar,Yan,Walker,M,1991-03-17,gangsar.walker@gmail.com\\nGazmend,Connor,Bene\\xc5\\xa1,M,1990-11-30,gazmend.bene\\xc5\\xa1@gmail.com\\nRyan,,Tate,M,1991-02-21,ryan.tate@gmail.com\\nBerto,,Mcdaniel,M,1999-07-21,berto.mcdaniel@gmail.com\\nPeter,,Rojo,M,1988-08-22,peter.rojo@hotmail.com\\nBritt,Barbara,Rojo,F,1985-08-06,britt.rojo@yahoo.com\\nVer\\xc3\\xb3nica,Nicholas,Carsten,M,1973-06-06,ver\\xc3\\xb3nica.carsten@krause-perez.com\\nChristopher,James Enzo,Waller,M,1983-10-18,christopher.waller@williams-alvarez.com\\nJumadi,Gioffre Timoteo,Williams,M,1971-08-19,jumadi.williams@sanchez.info\\nBenito,Henry,Davids,M,1999-02-06,benito.davids@gmail.com\\nDouglas,Steven,Nguyen,M,1982-12-14,douglas.nguyen@yahoo.com\\nValerie,,Brady,F,1990-08-16,valerie.brady@bailey-soto.com\\nDalia,Alicia,Pope,F,1981-02-24,dalia.pope@yahoo.com\\nTina,David Christopher,Bastida,GQ,1999-05-02,tina.bastida@gmail.com\\nJoshua,Pam,Williams,NA,1981-09-30,joshua.williams@gmail.com\\nConor,Amador,Saura,M,1997-06-09,conor.saura@hotmail.com\\nFranti\\xc5\\xa1ka,Alisha,Oconnor,F,1935-04-16,franti\\xc5\\xa1ka.oconnor@yahoo.com\\nMarcus,Araceli,Oconnor,M,1938-04-16,marcus.oconnor@yahoo.com\\nShannon,Roc\\xc3\\xado Laura,Tran,F,1992-12-22,shannon.tran@hotmail.com\\nJulie,Alyssa,Butler,F,1996-08-23,julie.butler@gonzalez-thompson.com\\nHerbert,Julian Zacar\\xc3\\xadas,Nicholson,M,1975-07-05,herbert.nicholson@hotmail.com\\nConstanza,Cassandra Madison,Nicholson,F,1971-11-16,constanza.nicholson@hotmail.com\\nAmy,,Nicholson,F,2011-09-07,amy.nicholson@gmail.com\\nMartha,Milena Jennifer,Sebasti\\xc3\\xa1n,F,1990-10-25,martha.sebasti\\xc3\\xa1n@moss.org\\nZaenab,Nancy Mar\\xc3\\xada Teresa,Slater,F,1994-05-29,zaenab.slater@hotmail.com\\nLucia,Eugenio,Teixeira,F,1944-04-07,lucia.teixeira@gmail.com\\nLibor,Ruben Verner,Teixeira,M,1942-01-30,libor.teixeira@gmail.com\\nDiego,,Weihmann,M,1987-12-16,diego.weihmann@becker.org\\nJill,Angela,Roma,F,1999-10-18,jill.roma@hotmail.com\\nJeremy,Steven,Spallanzani,M,1966-02-07,jeremy.spallanzani@gmail.com\\nCristina,Kimberly Lalita,Spallanzani,F,1968-10-25,cristina.spallanzani@hotmail.com\\nWilfredo,Pedro,Spallanzani,M,2019-01-30,wilfredo.spallanzani@hotmail.com\\nSerkan,,Spallanzani,M,2013-12-19,serkan.spallanzani@yahoo.com\\nBenito,Ernesto Mireille,Spallanzani,GN,2012-05-16,benito.spallanzani@hotmail.com\\nAmalia,Nancy,Daniel,F,1969-02-02,amalia.daniel@yahoo.com\\nMar\\xc3\\xada,Jos\\xc3\\xa9 Luis,Daniel,M,1964-12-25,mar\\xc3\\xada.daniel@gmail.com\\nLarry,Baccio,Daniel,M,2012-06-09,larry.daniel@yahoo.com\\nCarol,Chelo,Daniel,F,2014-09-23,carol.daniel@gmail.com\\nVicki,Arlet,Andreasen,F,1995-06-24,vicki.andreasen@martinez.org\\nKenneth,Serge,Riley,M,1968-11-27,kenneth.riley@yahoo.com\\nMary,Carla Felix,Peters,F,1964-07-04,mary.peters@norris.com\\nJosefa,Alejandra,Barraza,F,1993-09-08,josefa.barraza@yahoo.com\\nHans-G\\xc3\\xbcnther,Itzel,Reyes,M,1974-01-12,hans-g\\xc3\\xbcnther.reyes@sanchez.org\\nElisa,Dolores Karol\\xc3\\xadna,Velazquez,F,1933-07-06,elisa.velazquez@gmail.com\\nLaila,Chiara Sofia,\\xc3\\x81guila,F,1986-11-11,laila.\\xc3\\xa1guila@hotmail.com\\nMarvin,Aurora,Becerra,M,1981-01-06,marvin.becerra@yahoo.com\\nJeffrey,Gordon,Safitri,M,1993-09-07,jeffrey.safitri@hotmail.com\\nPedro,,Baker,M,1981-05-21,pedro.baker@hotmail.com\\nCarol,Laura,N\\xc3\\xba\\xc3\\xb1ez,F,1993-10-29,carol.n\\xc3\\xba\\xc3\\xb1ez@rodriguez-romero.com\\nIsabel,Ana Carolina,Cardenas,F,1998-03-20,isabel.cardenas@gmail.com\\nMelchor,David,Leonetti,M,1982-09-24,melchor.leonetti@steele-nichols.org\\nSo\\xc5\\x88a,Kimberly,Viana,GN,1950-12-28,so\\xc5\\x88a.viana@cohen-vasquez.com\\nChris,Danu Mitzy,Bailey,NA,2000-04-10,chris.bailey@yahoo.com\\nCecilio,,Hobbs,M,1986-07-27,cecilio.hobbs@horn.biz\\nH\\xc3\\xbcseyin,Arnau,Anderson,M,1988-10-28,h\\xc3\\xbcseyin.anderson@bullock.com\\nMichele,Brenda Alexandra,Hammond,F,1943-04-06,michele.hammond@hotmail.com\\nBrian,Shaun,Hammond,M,1945-04-19,brian.hammond@gmail.com\\nEstefan\\xc3\\xada,Joachim Craig,Valent\\xc3\\xadn,M,1977-07-31,estefan\\xc3\\xada.valent\\xc3\\xadn@hotmail.com\\nMario,Teresa,Valent\\xc3\\xadn,F,1978-04-03,mario.valent\\xc3\\xadn@gmail.com\\nGhani,Camila,Valent\\xc3\\xadn,NB,2011-07-18,ghani.valent\\xc3\\xadn@gmail.com\\nAyu,Cristobal,Stutz,T,2001-06-01,ayu.stutz@hotmail.com\\nLilo,Carmen,Huertas,F,1990-09-04,lilo.huertas@gmail.com\\nElaine,Tammy,Medina,F,2001-08-02,elaine.medina@gmail.com\\nMatth\\xc3\\xa4us,Florencia,Nascimento,T,1978-06-08,matth\\xc3\\xa4us.nascimento@hotmail.com\\nChristopher,Xavier,Hart,M,1994-07-18,christopher.hart@hotmail.com\\nLisa,Cristian,Rodr\\xc3\\xadgez,F,1961-06-23,lisa.rodr\\xc3\\xadgez@hall.com\\nBurghard,Yago,Villareal,M,1969-02-13,burghard.villareal@gmail.com\\nAshley,Noa,Galindo,F,1986-06-25,ashley.galindo@brown.com\\nFelix,Lilia In\\xc3\\xa9s,Hernandez,F,1992-05-01,felix.hernandez@yahoo.com\\nChristina,Carrie,Arteaga,F,1998-09-22,christina.arteaga@yahoo.com\\nMarc,Gilberto,Posada,M,1986-06-04,marc.posada@gmail.com\\nElizabeth,Patricia,Guevara,GQ,1998-06-23,elizabeth.guevara@hotmail.com\\nShane,Jonathan Edward,Bermejo,M,1991-03-13,shane.bermejo@kirby.com\\nJacopo,Anel,Evans,M,1979-02-15,jacopo.evans@gmail.com\\n\\xc3\\x81mbar,Alvaro Allison,Stocker,F,1997-05-02,\\xc3\\xa1mbar.stocker@yahoo.com\\nKathy,Lori,Mercantini,F,1982-03-11,kathy.mercantini@hotmail.com\\nKarla,Micheal,Mercantini,M,1985-05-21,karla.mercantini@yahoo.com\\nJessica,,Mercantini,F,2013-03-14,jessica.mercantini@hotmail.com\\nAshley,Betty,Mercantini,F,2010-08-09,ashley.mercantini@hotmail.com\\nPaola,,Spencer,M,1991-10-09,paola.spencer@miller-glass.com\\nIsmael,Lucas Gabriel,Cook,M,1997-06-15,ismael.cook@hotmail.com\\nGiovanna,Kimberly,Howard,F,1991-09-23,giovanna.howard@yahoo.com\\nPietro,Leticia Ant\\xc3\\xb4nio,Howard,M,1993-06-26,pietro.howard@hotmail.com\\nJeffrey,Hugo Rosa,Howard,M,2013-10-19,jeffrey.howard@hotmail.com\\nJennifer,Noa,Howard,T,2014-09-17,jennifer.howard@yahoo.com\\nAina,Salma Elba,Howard,F,2015-12-26,aina.howard@hotmail.com\\nJose,Chl\\xc3\\xb3e Flavio,Howard,NB,2018-10-03,jose.howard@gmail.com\\nXavier,Juan Francisco,Lee,M,1986-04-12,xavier.lee@bennett-gilbert.com\\nHannah,Kristina,Cedillo,F,1967-01-17,hannah.cedillo@gmail.com\\nAleix,Mario,Cedillo,M,1969-08-04,aleix.cedillo@yahoo.com\\nCarla,,Cedillo,F,2010-01-27,carla.cedillo@hotmail.com\\nWendolin,Baldomero,Cedillo,M,2018-02-24,wendolin.cedillo@hotmail.com\\nFrida,Juan,Dobes,M,1970-01-04,frida.dobes@yahoo.com\\nToni,Brett,Dobes,M,2014-08-18,toni.dobes@hotmail.com\\nVictor Manuel,Manuel,Borrego,M,1999-09-16,victor.manuel.borrego@gmail.com\\nOna,April Antonio,Baird,NA,1997-04-21,ona.baird@hotmail.com\\nGonzalo,Ladislav,Filzi,M,1986-03-02,gonzalo.filzi@yahoo.com\\nZaira,Ashley Vicente,Duran,F,1999-01-27,zaira.duran@hotmail.com\\nEleanor,Cristina,Pereira,F,1996-01-19,eleanor.pereira@yahoo.com\\nMarkus,Raphael,Olmedo,M,1997-09-18,markus.olmedo@gmail.com\\nHakan,Salvador Arnim,Matth\\xc3\\xa4i,M,2001-03-24,hakan.matth\\xc3\\xa4i@hotmail.com\\nAlessandro,John,Garay,M,1960-09-13,alessandro.garay@hotmail.com\\nAlbert,Frede,Beasley,M,1995-05-02,albert.beasley@gmail.com\\nJens,Dalia,Lindsey,M,1942-01-13,jens.lindsey@hotmail.com\\nJames,Daniela,Obrien,M,1965-01-27,james.obrien@gmail.com\\nEva,Abel,Obrien,F,1959-03-07,eva.obrien@yahoo.com\\nMicaela,Bernhardine,Obrien,F,2017-06-21,micaela.obrien@yahoo.com\\nKyle,,S\\xc3\\xb8rensen,M,1992-06-25,kyle.s\\xc3\\xb8rensen@santiago.com\\nBuenaventura,,Rosales,M,1940-02-20,buenaventura.rosales@gmail.com\\nJessica,Michelle Yvette,Rosales,F,1942-11-23,jessica.rosales@gmail.com\\nDenisa,Karla,Respighi,F,1955-10-24,denisa.respighi@hayes-morton.info\\nDavid,Melchor Luis,Baxter,M,1985-09-12,david.baxter@gmail.com\\nMichele,Davi Lucas,Garz\\xc3\\xb3n,GQ,1989-08-06,michele.garz\\xc3\\xb3n@gmail.com\\nNathan,,Bonbach,GQ,1996-04-24,nathan.bonbach@gmail.com\\nElizabeth,,Stephens,F,1988-01-01,elizabeth.stephens@hotmail.com\\nEnzo,David Lubom\\xc3\\xadr,Stephens,M,1989-06-21,enzo.stephens@hotmail.com\\nGerard,J\\xc3\\xbalia,Gangemi,T,1989-08-23,gerard.gangemi@hotmail.com\\nTyler,Jeremy,Gangemi,T,1986-10-24,tyler.gangemi@gmail.com\\nJon\\xc3\\xa1s,,Gangemi,F,2012-10-06,jon\\xc3\\xa1s.gangemi@hotmail.com\\nIan,Bernfried,Gangemi,NA,2019-07-09,ian.gangemi@yahoo.com\\nClarice,,Gangemi,F,2012-03-04,clarice.gangemi@hotmail.com\\nDavid,Micaela,Jensen,M,1991-08-05,david.jensen@yahoo.com\\nSuzanne,Andrea,Mohaupt,F,1947-07-06,suzanne.mohaupt@nelson.com\\nBeatriz,,Wesack,F,1971-02-11,beatriz.wesack@yahoo.com\\nAldo,Jose Antonio,Wesack,M,1974-08-30,aldo.wesack@yahoo.com\\nGeorge,,Wesack,M,2011-06-09,george.wesack@hotmail.com\\nMathew,Edward,Wesack,M,2017-06-28,mathew.wesack@gmail.com\\nFrancisco,Edoardo Michael,Nolan,M,1961-09-27,francisco.nolan@yahoo.com\\nWendy,Frida,Nolan,F,1957-09-06,wendy.nolan@yahoo.com\\nSamuel,James,Nolan,M,2011-04-20,samuel.nolan@yahoo.com\\nMatthew,Jeffrey Jos\\xc3\\xa9,Nolan,NB,2010-09-12,matthew.nolan@gmail.com\\nDiana,Halina,Jennings,F,1996-08-20,diana.jennings@gmail.com\\nRobin,Emily,Strangio,F,2000-05-10,robin.strangio@yahoo.com\\nMegan,Rosmarie Linda,Ramirez,F,1985-03-27,megan.ramirez@morris.com\\nLiliana,,Diaz,F,1968-05-05,liliana.diaz@vega-schmitt.com\\nJi\\xc5\\x99ina,Breanna,Armenta,F,1988-03-08,ji\\xc5\\x99ina.armenta@gonzales-johnson.com\\nAmalia,Karen,C\\xc3\\xa1novas,F,1962-11-07,amalia.c\\xc3\\xa1novas@gmail.com\\nDavid,Citlali,C\\xc3\\xa1novas,M,1959-06-30,david.c\\xc3\\xa1novas@gmail.com\\nSilvia,Silvano Bonnie,C\\xc3\\xa1novas,F,2011-01-04,silvia.c\\xc3\\xa1novas@yahoo.com\\nIbrahim,Domenico Ramiz,Barrera,M,1988-05-26,ibrahim.barrera@hotmail.com\\nBritta,Paige,Barrera,F,1986-07-18,britta.barrera@gmail.com\\nTammy,Anita,Barrera,F,2012-12-08,tammy.barrera@yahoo.com\\nKaren,,Barrera,GN,2013-04-24,karen.barrera@gmail.com\\nKathy,Nancy,Chambers,F,1955-05-29,kathy.chambers@gmail.com\\nSamantha,Cathy,Krebs,F,1978-07-11,samantha.krebs@hotmail.com\\nTaylor,,Krebs,M,2018-08-21,taylor.krebs@hotmail.com\\nJack,Joel,Levy,M,1977-11-26,jack.levy@morgan.info\\nMichele,Rasmus,Prada,M,1989-06-27,michele.prada@yahoo.com\\nAmanda,Nicol\\xc3\\xa1s,Fraser,F,1996-05-11,amanda.fraser@yahoo.com\\nKyle,Emilia Bryan,Puccini,T,1992-11-04,kyle.puccini@yahoo.com\\nJennifer,Ivonne,Hanson,F,1973-08-01,jennifer.hanson@yahoo.com\\nFrank,Adam,Hanson,M,1975-06-20,frank.hanson@yahoo.com\\nMarco Antonio,Mar\\xc3\\xada,Hanson,F,2011-06-12,marco.antonio.hanson@yahoo.com\\nJordan,Jo\\xc3\\xa3o Lucas,Hanson,M,2012-02-15,jordan.hanson@yahoo.com\\nGiulia,Stephanie,Ortiz,F,1949-07-27,giulia.ortiz@hotmail.com\\nMar\\xc3\\xada Teresa,Freddy,Ortiz,M,1948-07-13,mar\\xc3\\xada.teresa.ortiz@hotmail.com\\nMart\\xc3\\xad,Elisa,Cintr\\xc3\\xb3n,M,1959-08-26,mart\\xc3\\xad.cintr\\xc3\\xb3n@yahoo.com\\nGuadalupe,Montserrat,Cintr\\xc3\\xb3n,F,2018-07-25,guadalupe.cintr\\xc3\\xb3n@yahoo.com\\nAmanda,Diane,Burke,F,1993-03-06,amanda.burke@sanchez.com\\nXavier,Albert Michael,Dominguez,M,1936-08-01,xavier.dominguez@gmail.com\\nJessica,Laura,Dominguez,F,1932-07-25,jessica.dominguez@gmail.com\\nMelvin,\\xc3\\x98yvind Francisco,Alonso,M,1994-04-25,melvin.alonso@hotmail.com\\nChristopher,,Bowers,NA,1983-04-27,christopher.bowers@yahoo.com\\nAntony,Brandon,Molina,M,1978-03-08,antony.molina@christensen.info\\nAlexandr,Ryan,Smith,M,1994-10-03,alexandr.smith@yahoo.com\\nSamantha,Amanda Stacy,Smith,F,1996-03-21,samantha.smith@hotmail.com\\n\\xc5\\xa0imon,,Smith,M,2018-04-06,\\xc5\\xa1imon.smith@gmail.com\\nSarah,Mamen Nichole,Riddle,F,1971-11-06,sarah.riddle@gmail.com\\nJason,Robert,Riddle,M,1971-09-27,jason.riddle@gmail.com\\nPaola,Donald,Riddle,M,2017-11-15,paola.riddle@hotmail.com\\nEric,Vincenzo,Smith,M,1988-07-23,eric.smith@glenn.com\\nSoledad,Anthony,Coca,M,1983-10-25,soledad.coca@blake.com\\nJosep,Benjam\\xc3\\xadn,Hoffmann,M,1995-01-08,josep.hoffmann@hotmail.com\\nTheo,Bohumil Margarita,Fuente,M,1986-12-21,theo.fuente@ponce.biz\\nJos\\xc3\\xa9 Manu\\xc3\\xa9l,Kenneth,Lewis,M,2000-01-19,jos\\xc3\\xa9.manu\\xc3\\xa9l.lewis@smith.org\\nElvira,Virginia,Mays,F,1992-01-05,elvira.mays@hotmail.com\\nFrida,Scott,Harmon,NB,1932-09-12,frida.harmon@gmail.com\\nSherri,Jennifer,Peterson,F,1990-06-19,sherri.peterson@hotmail.com\\nHeliodoro,Clara,White,M,1996-03-12,heliodoro.white@meyer.net\\nLucia,Jaqueline,Hickman,F,1996-10-09,lucia.hickman@snow.com\\nGraciana,,Brown,F,2001-10-29,graciana.brown@hotmail.com\\nMariana,Werner,Cooke,M,1949-05-14,mariana.cooke@hotmail.com\\nAnel,,Cooke,F,1948-01-10,anel.cooke@gmail.com\\nGiuseppe,Ronald,Cases,M,1991-08-06,giuseppe.cases@hotmail.com\\nBiagio,Robert,Cases,M,2010-07-20,biagio.cases@hotmail.com\\nMilo\\xc5\\xa1,Antonio George,Sherman,M,1982-09-12,milo\\xc5\\xa1.sherman@hotmail.com\\nKristen,,Sullivan,F,1996-12-25,kristen.sullivan@stewart.com\\nGabriela,Jackie,Nascimento,F,1993-08-11,gabriela.nascimento@gmail.com\\nMarisela,Michael,Farley,M,1981-01-26,marisela.farley@lindsey.biz\\nJeffrey,Brian,Portero,M,1963-05-31,jeffrey.portero@perry-rios.org\\nLeonor,Terry,Cimarosa,F,1995-03-01,leonor.cimarosa@hotmail.com\\nNina,Phyllis Michelle,Carson,F,1999-02-22,nina.carson@yahoo.com\\nSylvia,Heather Gabino,Lomeli,F,1965-11-03,sylvia.lomeli@ruiz-smith.com\\nSergio,,Valverde,M,1991-11-08,sergio.valverde@davis.com\\nGary,,Prat,M,1954-01-27,gary.prat@white-reed.net\\nKarina,Pedro Miguel,Shaffer,M,1935-09-24,karina.shaffer@yahoo.com\\nAntonia,Regina,Shaffer,F,1931-02-25,antonia.shaffer@yahoo.com\\nMartha,Juan,Cugia,M,1992-06-27,martha.cugia@hotmail.com\\nEsparta,Jessica Jenna,Orellana,GN,1966-12-10,esparta.orellana@yahoo.com\\nGertrudis,Ariadna,Orellana,F,2010-10-02,gertrudis.orellana@gmail.com\\nEmma,Carol,Orellana,F,2019-10-21,emma.orellana@yahoo.com\\nCheryl,Daniela,Orellana,F,2011-09-24,cheryl.orellana@yahoo.com\\nPriscila,,Smith,NB,1988-11-16,priscila.smith@gmail.com\\nWendy,Elizabeth,Bauer,F,1991-01-30,wendy.bauer@hotmail.com\\nOna,Sof\\xc3\\xada,Batlle,F,1951-11-23,ona.batlle@yahoo.com\\nLeo,Marvin Bohuslav,Batlle,M,1956-10-19,leo.batlle@hotmail.com\\nRaoul,Randall,\\xc5\\xa0t\\xc4\\x9bp\\xc3\\xa1nkov\\xc3\\xa1,M,1962-09-17,raoul.\\xc5\\xa1t\\xc4\\x9bp\\xc3\\xa1nkov\\xc3\\xa1@gmail.com\\nLindsey,Rebeca,\\xc5\\xa0t\\xc4\\x9bp\\xc3\\xa1nkov\\xc3\\xa1,F,1958-07-04,lindsey.\\xc5\\xa1t\\xc4\\x9bp\\xc3\\xa1nkov\\xc3\\xa1@hotmail.com\\nJustin,Bruno,\\xc5\\xa0t\\xc4\\x9bp\\xc3\\xa1nkov\\xc3\\xa1,M,2018-08-29,justin.\\xc5\\xa1t\\xc4\\x9bp\\xc3\\xa1nkov\\xc3\\xa1@yahoo.com\\nEsparta,Juana,Agustina,F,1976-09-13,esparta.agustina@hotmail.com\\nRicky,Hasan,Agustina,M,1981-06-12,ricky.agustina@yahoo.com\\nGaia,Alexandra,Agustina,NA,2011-03-14,gaia.agustina@yahoo.com\\nTine,David Rangga,Agustina,GQ,2011-04-10,tine.agustina@hotmail.com\\nBruno,Javier Bakda,Agustina,M,2009-12-29,bruno.agustina@hotmail.com\\nSarah,Patricia,Agustina,F,2016-07-19,sarah.agustina@hotmail.com\\nAle,Nicholas,Anglada,M,1996-09-28,ale.anglada@yahoo.com\\nDolores,,Mullins,F,1995-04-26,dolores.mullins@gmail.com\\nPaola,Victoria,Bush,F,1996-08-31,paola.bush@gmail.com\\nEugenio,Erica Carol,Vargas,F,1996-05-03,eugenio.vargas@gmail.com\\nJessica,Nad\\xc4\\x9b\\xc5\\xbeda Ashley,Schuchhardt,F,1967-03-16,jessica.schuchhardt@decker.com\\nDemetrio,Nathan,Cuellar,M,1967-04-25,demetrio.cuellar@campbell.com\\nLoretta,Pedro,Lled\\xc3\\xb3,NA,1986-05-14,loretta.lled\\xc3\\xb3@yahoo.com\\nJorge,Kyle,Bonilla,NA,1961-04-25,jorge.bonilla@calderon.info\\nClaudio,Walter,N\\xc4\\x9bmec,M,1932-04-05,claudio.n\\xc4\\x9bmec@yahoo.com\\nJulia,Montserrat,N\\xc4\\x9bmec,F,1934-01-27,julia.n\\xc4\\x9bmec@hotmail.com\\nAdam,Juan,Brown,M,1974-01-27,adam.brown@hotmail.com\\nGeorge,Kayla Laura,Arevalo,GN,1986-02-10,george.arevalo@gmail.com\\nIan,Reimer,Maxwell,M,1970-04-21,ian.maxwell@yahoo.com\\nRosario,,Ugarte,M,1992-08-11,rosario.ugarte@gmail.com\\nGlen,,Griffith,M,1993-08-25,glen.griffith@moore.info\\nErik,Thomas,Duarte,M,1975-02-04,erik.duarte@hotmail.com\\nCarlos,Miguel,Robbins,M,1958-01-05,carlos.robbins@yahoo.com\\nLuciano,Jamie Jose,Morton,M,1997-05-14,luciano.morton@hotmail.com\\nLarissa,Ana Luisa \\xc3\\x81frica,S\\xc3\\xa1ez,F,2000-03-01,larissa.s\\xc3\\xa1ez@gmail.com\\nEllen,Alyssa,Llamas,F,1999-06-13,ellen.llamas@yahoo.com\\nMelissa,Kelsey,Weber,F,1987-12-12,melissa.weber@yahoo.com\\nEric,Carl-Heinz,Donaire,M,1996-01-05,eric.donaire@hotmail.com\\nAdriana,Noa,Dominguez,F,1975-05-10,adriana.dominguez@campbell.com\\nIan,Donald,Lawrence,M,1993-01-05,ian.lawrence@hotmail.com\\nSeraf\\xc3\\xadn,,Lerma,M,1983-02-08,seraf\\xc3\\xadn.lerma@schwartz-baker.com\\nCassandra,Robin,Nissen,F,1979-07-07,cassandra.nissen@hotmail.com\\nGustavo Henrique,Kevin,Nissen,M,1976-10-22,gustavo.henrique.nissen@gmail.com\\nMichael,Baldomero,Nissen,M,2011-07-07,michael.nissen@gmail.com\\nMarcela,,Sloan,F,1984-07-16,marcela.sloan@yahoo.com\\nMary,,Porras,F,1943-12-14,mary.porras@gmail.com\\nLisa,Mary Carla,Bishop,F,1951-12-20,lisa.bishop@hotmail.com\\nRodrigo,Jos\\xc3\\xa9 Mar\\xc3\\xada,Bishop,M,1946-10-16,rodrigo.bishop@gmail.com\\nAnthony,Yolanda,Bishop,M,2012-10-26,anthony.bishop@hotmail.com\\nSiegmund,Sheila,Collado,NB,1985-05-27,siegmund.collado@hotmail.com\\nFrida,Robin,Gordon,F,1968-03-28,frida.gordon@mahoney.com\\nKaren,Lucia Anel,Gentili,F,1941-01-24,karen.gentili@holder-figueroa.info\\nBlake,Michael John,Botta,M,2001-07-21,blake.botta@gmail.com\\nAnna,Conchita,Botta,F,1997-08-16,anna.botta@gmail.com\\nGeorge,Tade\\xc3\\xa1\\xc5\\xa1,Wilcox,M,1997-08-22,george.wilcox@alexander.biz\\nCristina,Erica Ane\\xc5\\xbeka,Bernasconi,F,1943-05-18,cristina.bernasconi@hotmail.com\\nDavid,William,Bernasconi,M,1938-07-26,david.bernasconi@yahoo.com\\nPaulo,Joe,Narpati,M,1959-08-10,paulo.narpati@mcgee-weaver.com\\nMart\\xc3\\xad,,Arroyo,M,1955-06-04,mart\\xc3\\xad.arroyo@white.biz\\nDanielle,Isabel Ashley,Clark,F,2002-05-11,danielle.clark@yahoo.com\\nJeremy,Donald,Madrid,M,1995-01-10,jeremy.madrid@hotmail.com\\nCole,Gunther,Williamson,M,1945-04-13,cole.williamson@hotmail.com\\nEmily,Urszula,Weimer,F,1984-08-29,emily.weimer@gmail.com\\nKrist\\xc3\\xbdna,Laura,Vela,F,1981-10-26,krist\\xc3\\xbdna.vela@hahn.com\\nVictoria,Angie,Arellano,F,1935-09-27,victoria.arellano@gmail.com\\nMax,Jos\\xc3\\xa9 Laurenz,Arellano,M,1930-10-22,max.arellano@yahoo.com\\nTimothy,Donald Arne,Rossell\\xc3\\xb3,M,1993-08-04,timothy.rossell\\xc3\\xb3@yahoo.com\\nTrevor,Ruggiero,Taylor,M,1998-06-12,trevor.taylor@gmail.com\\nAna,,Taylor,F,1999-06-14,ana.taylor@yahoo.com\\nRomina,Patricio,Sales,F,1932-12-26,romina.sales@hotmail.com\\nJan,Eduardo Stephen,Sales,M,1933-02-20,jan.sales@yahoo.com\\nMia,Rhonda,Quesada,F,1975-12-12,mia.quesada@oneal.net\\nMax,\\xc3\\x88ric,Iswahyudi,M,1976-01-16,max.iswahyudi@hotmail.com\\nLuiza,Lori,Iswahyudi,F,1970-05-05,luiza.iswahyudi@gmail.com\\nMateo,Philip,Iswahyudi,M,2012-06-10,mateo.iswahyudi@gmail.com\\nOlga,Emma,Iswahyudi,F,2013-11-21,olga.iswahyudi@gmail.com\\nCarine,Cristina,Heath,F,1994-06-05,carine.heath@shelton.com\\nLupita,Ute Karla,Gasser,F,1986-07-22,lupita.gasser@hotmail.com\\nCristina,Sigfrido,Norris,M,1990-07-03,cristina.norris@yahoo.com\\nAndrew,,Freitas,GN,1990-03-27,andrew.freitas@hotmail.com\\nRichard,Christopher,Cabrera,M,1999-12-05,richard.cabrera@gmail.com\\nCristobal,Virgilio,Smith,M,1991-05-06,cristobal.smith@hotmail.com\\nBruce,Daniel,Edwards,M,1995-06-12,bruce.edwards@yahoo.com\\nEusebio,,Anderson,M,1952-02-17,eusebio.anderson@gmail.com\\nJennifer,Anel,Rivera,F,1989-03-21,jennifer.rivera@hotmail.com\\nMichael,William,Rivera,M,1990-03-12,michael.rivera@hotmail.com\\nSabrina,Val\\xc3\\xa8ria Nicole,Rivera,F,2016-03-03,sabrina.rivera@gmail.com\\nLarissa,Fidela,Rivera,F,2016-08-17,larissa.rivera@gmail.com\\nMartina,Mar\\xc3\\xada Del Carmen Encarnita,Rivera,F,2013-12-28,martina.rivera@hotmail.com\\nPatrick,,Burgess,M,1941-06-17,patrick.burgess@yahoo.com\\nCourtney,Jennifer,Burgess,F,1942-02-11,courtney.burgess@yahoo.com\\nAldo,Kenneth,Chaparro,M,1987-08-12,aldo.chaparro@gmail.com\\nJessica,Cl\\xc3\\xa0udia,Flaiano,F,1994-07-31,jessica.flaiano@yahoo.com\\nMatthew,Rasmus Brent,Watson,M,1984-12-18,matthew.watson@lynch-jimenez.com\\nAnnibale,Morten Luis Miguel,Scott,T,2000-04-25,annibale.scott@jones.com\\nChl\\xc3\\xb3e,Carmen,Sobrino,F,2001-04-19,chl\\xc3\\xb3e.sobrino@gmail.com\\nMar\\xc3\\xada Luisa,Julie Kerry,Hernando,F,1996-05-25,mar\\xc3\\xada.luisa.hernando@hotmail.com\\nJuan,Jerem\\xc3\\xadas,Cepeda,M,1991-01-31,juan.cepeda@gmail.com\\nJames,Victor,Zamudio,M,1984-11-04,james.zamudio@hotmail.com\\nMelissa,,Purnawati,F,1993-07-27,melissa.purnawati@yahoo.com\\nNicholas,Pier,Steffensen,M,1936-09-07,nicholas.steffensen@yahoo.com\\nEric,Emily Stella,Steffensen,F,1939-10-13,eric.steffensen@gmail.com\\nKellie,Lewis,Suartini,NB,1956-09-15,kellie.suartini@holmes.com\\nEmanuella,,Elliott,F,1962-04-24,emanuella.elliott@yahoo.com\\nMichael,,Elliott,M,1957-11-30,michael.elliott@yahoo.com\\nMaurilio,Richard Giovanni,Elliott,M,2017-07-05,maurilio.elliott@hotmail.com\\nJos\\xc3\\xa9,James,Gutierrez,M,1981-02-24,jos\\xc3\\xa9.gutierrez@stewart.biz\\nKelly,Manuel Amanda,Knapp,NA,1982-12-12,kelly.knapp@lopez.org\\nCarl,,Negr\\xc3\\xb3n,M,1975-04-28,carl.negr\\xc3\\xb3n@shaw-martinez.com\\nIan,Torquato,Allen,M,1979-11-29,ian.allen@yahoo.com\\nChristine,Julie,Allen,F,1975-04-30,christine.allen@gmail.com\\nLuiza,,Allen,F,2012-12-05,luiza.allen@hotmail.com\\nEmilie,Jodie,Allen,F,2017-04-11,emilie.allen@hotmail.com\\nPaula,Ricardo Alfred,Jones,NA,1995-01-30,paula.jones@yahoo.com\\nAldonza,Brooke,Hampton,F,1996-04-10,aldonza.hampton@hotmail.com\\nJason,Carmen,da Rocha,M,1996-03-07,jason.da.rocha@gmail.com\\nJenna,Sheila,Pratama,F,1991-06-11,jenna.pratama@gmail.com\\nPaoletta,Germ\\xc3\\xa1n,Horne,F,1996-02-01,paoletta.horne@rose.org\\n\\xc5\\xa0t\\xc4\\x9bp\\xc3\\xa1n,,Carosone,M,1957-09-16,\\xc5\\xa1t\\xc4\\x9bp\\xc3\\xa1n.carosone@gmail.com\\nKelly,Anne-Lise,Carosone,F,1961-04-22,kelly.carosone@gmail.com\\nEugenia,,Carosone,F,2011-05-25,eugenia.carosone@hotmail.com\\nJason,Rosario,Carosone,M,2011-11-10,jason.carosone@gmail.com\\nDana,Sharon Jessica,Pizzamano,F,1975-04-02,dana.pizzamano@gmail.com\\nEusebio,,Thomas,M,1967-06-01,eusebio.thomas@yahoo.com\\nRobert,Marc,Jacobson,M,1978-01-27,robert.jacobson@hotmail.com\\nEduarda,,Jacobson,NB,2016-08-13,eduarda.jacobson@yahoo.com\\nCasemiro,Joseph,Jacobson,M,2012-03-22,casemiro.jacobson@yahoo.com\\nKaren,Emily,Jacobson,F,2015-01-30,karen.jacobson@gmail.com\\nJason,Cameron,Ruelas,M,1996-06-29,jason.ruelas@gmail.com\\nMartina,Rebecca,Vargas,F,1991-08-07,martina.vargas@hotmail.com\\nJennifer,Mary,Ossola,F,1962-10-21,jennifer.ossola@yahoo.com\\nVolker,Michael,Ossola,M,1964-11-26,volker.ossola@yahoo.com\\nNicole,,Ossola,GQ,2011-07-26,nicole.ossola@gmail.com\\nBenno,Stephen,Petty,M,1990-11-01,benno.petty@evans.biz\\nGrant,Marc,Evans,GQ,1993-05-11,grant.evans@gmail.com\\nDonald,Thomas Piermaria,Fernandez,M,1956-11-08,donald.fernandez@woods.biz\\nLinda,Desiree,Moody,F,1945-12-10,linda.moody@brown.net\\nSamantha,,Medina,F,1961-09-20,samantha.medina@morgan.com\\nEleanor,Elizabeth Vanessa,Glover,F,1963-11-12,eleanor.glover@thomas-macias.com\\nAntonio,Concepci\\xc3\\xb3n,Nilsson,M,1978-10-14,antonio.nilsson@pierce.com\\nMarco,Ricardo Giancarlo,Kratochv\\xc3\\xadl,M,1999-03-08,marco.kratochv\\xc3\\xadl@hotmail.com\\nErin,Elvia Jodi,Kratochv\\xc3\\xadl,F,1998-04-19,erin.kratochv\\xc3\\xadl@hotmail.com\\nJames,Helena,Barbero,M,1990-06-11,james.barbero@rodriguez.com\\nAshley,,Dom\\xc3\\xadnguez,NB,1985-08-16,ashley.dom\\xc3\\xadnguez@bauer-russo.com\\nVal\\xc3\\xa8ria,Sarah,Alegria,F,1996-03-27,val\\xc3\\xa8ria.alegria@hotmail.com\\nVratislav,Pedro,Schroeder,M,1983-07-10,vratislav.schroeder@gmail.com\\nEmily,Gema Flora,Roberts,F,1975-11-16,emily.roberts@gmail.com\\nUriel,Victor,Bilbao,M,1995-05-15,uriel.bilbao@gmail.com\\nGelsomina,Courtney Rachel,Gozzano,F,1945-06-01,gelsomina.gozzano@yahoo.com\\nTony,,Noriega,M,1987-02-01,tony.noriega@yahoo.com\\nNad\\xc4\\x9b\\xc5\\xbeda,Courtney,Noriega,F,1988-06-11,nad\\xc4\\x9b\\xc5\\xbeda.noriega@yahoo.com\\nAshley,,Lund,F,1954-06-17,ashley.lund@potter.com\\nMegan,Oda,Lombardi,F,1989-08-25,megan.lombardi@schneider-russell.com\\nPierangelo,Leon,Dean,M,1984-11-06,pierangelo.dean@yahoo.com\\nRosario,Hans-Rainer Brian,Knudsen,M,1963-01-25,rosario.knudsen@hotmail.com\\nValerie,Aina,Blanch,GQ,1986-02-16,valerie.blanch@hotmail.com\\nParman,David,Williams,M,1940-09-19,parman.williams@gmail.com\\nTheresa,Laia Jill,Concepci\\xc3\\xb3n,F,1999-06-24,theresa.concepci\\xc3\\xb3n@yahoo.com\\nPaola,Claudio,Bene\\xc5\\xa1,M,1991-01-26,paola.bene\\xc5\\xa1@gmail.com\\nAgapito,Austin,Freudenberger,M,1972-07-12,agapito.freudenberger@smith.biz\\nSamuel,Kelly,Scholl,F,1976-08-22,samuel.scholl@hotmail.com\\nPascual,Enzo Marcela,Scholl,M,2014-02-16,pascual.scholl@gmail.com\\nDaisy,Kimberly,Scholl,F,2013-08-22,daisy.scholl@gmail.com\\nSandra,,Scholl,F,2016-04-08,sandra.scholl@yahoo.com\\nZachary,Thomas Jacopo,Scholl,M,2016-09-26,zachary.scholl@yahoo.com\\nWilliam,Joseph Amador,Gonzalez,M,1951-12-17,william.gonzalez@yahoo.com\\nElizabeth,Tina,Gonzalez,F,1947-07-09,elizabeth.gonzalez@yahoo.com\\nHanne,Thomas Albert,Gonzalez,NA,2011-02-25,hanne.gonzalez@yahoo.com\\nJuana,Leyre,Thamrin,F,1986-08-13,juana.thamrin@yahoo.com\\nCalixto,Alonso,Dillon,M,1989-09-27,calixto.dillon@gmail.com\\nDavid,Mahesa Guilherme,Schultz,GQ,1990-04-11,david.schultz@gmail.com\\nOna,Felipe Teodoro,Pope,F,1983-07-31,ona.pope@avila.net\\nTimoteo,Brittany,Taylor,F,1975-12-28,timoteo.taylor@hotmail.com\\nSteven,Thomas Barbara,Taylor,M,1974-04-19,steven.taylor@yahoo.com\\nDerek,Jan,Taylor,M,2014-08-31,derek.taylor@yahoo.com\\nTerry,Jeffrey,Taylor,M,2011-09-17,terry.taylor@hotmail.com\\nJason,Noah,Hoz,M,1994-10-01,jason.hoz@lopez-cooper.info\\nJessica,Guillermo,Bay\\xc3\\xb3n,F,1999-07-16,jessica.bay\\xc3\\xb3n@gmail.com\\nDaniel,Jacob,Griffin,NA,1985-10-28,daniel.griffin@gmail.com\\nEva,Sarita,Combi,F,1984-07-03,eva.combi@gmail.com\\nKeith,Elisa,Martin,M,1964-05-28,keith.martin@diaz.com\\nOctavio,,Wilson,M,1979-09-15,octavio.wilson@hotmail.com\\nOpan,Siegmund An\\xc3\\xadbal,Chapman,M,1973-06-17,opan.chapman@mays.com\\nLuis,David,Hogan,M,1983-11-04,luis.hogan@yahoo.com\\nNatalie,Isabel Terry,Hogan,F,1985-12-08,natalie.hogan@yahoo.com\\nGraciela,Irene,Hogan,F,2011-11-06,graciela.hogan@hotmail.com\\nAna,,Hogan,F,2017-10-16,ana.hogan@yahoo.com\\nEnzo,\\xc3\\x81ngel,Hogan,M,2019-01-25,enzo.hogan@gmail.com\\nCandelas,Rebecca Jocelyn,Hogan,F,2013-05-01,candelas.hogan@yahoo.com\\nMichael,Joan,Fajardo,M,1992-07-03,michael.fajardo@gmail.com\\nGeorgina,Julio,Ott,M,1989-04-02,georgina.ott@smith.com\\nKaylee,Alena,Monroe,F,1953-09-27,kaylee.monroe@hotmail.com\\nIsa,,Monroe,M,1952-02-25,isa.monroe@hotmail.com\\nNad\\xc4\\x9b\\xc5\\xbeda,Miguel,Monroe,GQ,2017-06-03,nad\\xc4\\x9b\\xc5\\xbeda.monroe@hotmail.com\\nAgatha,Rebecca,Ravn,F,1960-10-19,agatha.ravn@gmail.com\\nErasmo,Victorino,Ravn,M,1958-03-03,erasmo.ravn@gmail.com\\nEdward,Kenneth,Ravn,M,2015-10-17,edward.ravn@yahoo.com\\nAmalia,Adam,Ravn,M,2014-05-25,amalia.ravn@gmail.com\\nDenise,Agust\\xc3\\xadn,Ravn,GQ,2010-08-05,denise.ravn@gmail.com\\nMiroslav,,Busoni,M,1982-11-17,miroslav.busoni@hotmail.com\\nMaria Alice,Esperanza,Caba\\xc3\\xb1as,F,1993-02-16,maria.alice.caba\\xc3\\xb1as@spence.com\\nJorge,Michael,Bruce,M,1964-07-09,jorge.bruce@keller.net\\nPau,Cynthia,Ferreira,NB,1953-03-24,pau.ferreira@yahoo.com\\nHilario,,Ferreira,NB,1955-03-03,hilario.ferreira@yahoo.com\\nSamantha,Katie,Rivera,F,1929-04-06,samantha.rivera@hotmail.com\\nRosa,Sierra Vanesa,Barrio,F,2000-01-30,rosa.barrio@hotmail.com\\nSophia,Carolina Antonia,Fowler,F,1982-10-28,sophia.fowler@yahoo.com\\nTammy,Martina,Fowler,F,2013-01-22,tammy.fowler@gmail.com\\nGuadalupe,Jos\\xc3\\xa9 Arthur,Powell,M,1999-07-24,guadalupe.powell@kaiser.com\\nIsabel,Encarna Allison,Mata,F,1987-07-14,isabel.mata@yahoo.com\\nConnor,Justin Ricciotti,Berr\\xc3\\xa8,M,1999-10-25,connor.berr\\xc3\\xa8@williamson.com\\nStacey,Sharon Mary,Gibbs,F,1991-02-12,stacey.gibbs@yahoo.com\\nJoe,Randy Eric,Gibbs,M,1991-01-06,joe.gibbs@gmail.com\\nRodolfo,,Lerma,M,1999-10-29,rodolfo.lerma@hotmail.com\\nMichela,Alicia Stacy,Lerma,F,2004-10-13,michela.lerma@hotmail.com\\nGalasso,Carmen,Corral,GN,1938-09-25,galasso.corral@yahoo.com\\nOlivia,C\\xc3\\xa9sar,Barcel\\xc3\\xb3,F,1967-06-02,olivia.barcel\\xc3\\xb3@gomez-mann.com\\nDiana,Mar\\xc3\\xada del Carmen,Sandoval,F,1993-03-10,diana.sandoval@ray.com\\nSilvio,Jose,Tucker,M,1990-06-18,silvio.tucker@hotmail.com\\nMaria,Heather Donna,Marpaung,F,1998-04-16,maria.marpaung@hotmail.com\\nMia,Suzanne,Vaughan,F,1988-11-15,mia.vaughan@yahoo.com\\nJulie,Cruz Jessica,Mortensen,F,2000-05-11,julie.mortensen@hotmail.com\\nYannick,Thomas,Cavalcanti,M,1956-01-08,yannick.cavalcanti@wilson-brown.com\\nSilvia,,Cervera,F,1969-05-02,silvia.cervera@hotmail.com\\nKenneth,Yolanda Jos\\xc3\\xa9,Cervera,M,1972-06-10,kenneth.cervera@hotmail.com\\nKamil,Fedor,Cervera,NB,2017-01-23,kamil.cervera@hotmail.com\\nFidel,Teresa Laura,Cervera,F,2014-12-28,fidel.cervera@hotmail.com\\nRodrigo,Max,Cervera,GQ,2019-04-12,rodrigo.cervera@gmail.com\\nKari,Sylvia,Robles,F,1947-12-30,kari.robles@hotmail.com\\nPastora,Kayla,Schoch,GN,1993-08-25,pastora.schoch@hotmail.com\\nAndrea,Carmen,Lamb,F,1982-10-26,andrea.lamb@gmail.com\\nRegina,Guillermina Cristal,Ramirez,F,1985-07-15,regina.ramirez@gmail.com\\nJoshua,Albert,Ramirez,M,1985-03-06,joshua.ramirez@yahoo.com\\nAlec,,Ramirez,M,2013-03-01,alec.ramirez@yahoo.com\\nArne,,Schultz,M,1956-07-26,arne.schultz@bender-jones.biz\\nSandro,Brian,Wesack,M,1984-01-01,sandro.wesack@rowe.com\\nYolanda,Anna,Alvarez,F,1987-07-11,yolanda.alvarez@gmail.com\\nJorge Luis,Chad James,Alvarez,M,1989-09-09,jorge.luis.alvarez@yahoo.com\\nLindsey,Jennifer Kathi,Alvarez,F,2016-08-17,lindsey.alvarez@yahoo.com\\nErling,Jorge Joel,Clark,M,1971-06-19,erling.clark@yahoo.com\\nAugusto,Otilia Jos,Clark,F,1974-06-12,augusto.clark@yahoo.com\\nKatelyn,Ashley,Clark,F,2010-06-29,katelyn.clark@gmail.com\\nSilvester,Timothy,Ybarra,M,1979-04-15,silvester.ybarra@gmail.com\\nFrancisca,Emilia Kristin,Freeman,F,1954-06-07,francisca.freeman@chang.com\\nGiovanna,Diane,Diaz,F,1949-02-19,giovanna.diaz@hotmail.com\\nVladim\\xc3\\xadr,Leon,Diaz,M,1953-09-17,vladim\\xc3\\xadr.diaz@hotmail.com\\nRobert,,Quiroz,NB,1995-09-23,robert.quiroz@yahoo.com\\nNancy,Adrienne,Mate,F,1938-08-26,nancy.mate@gmail.com\\nNayeli,Bianca,Mate,M,1941-06-27,nayeli.mate@yahoo.com\\nSandy,Holly,Richards,F,1990-03-22,sandy.richards@yahoo.com\\nFrancisco,Leone,Richards,M,1993-02-14,francisco.richards@gmail.com\\nNicol\\xc3\\xa1s,Diana,Richards,F,2019-07-01,nicol\\xc3\\xa1s.richards@hotmail.com\\nLembah,Joshua Michael,Richards,M,2016-08-22,lembah.richards@yahoo.com\\nAlexandra,Jennifer,Naranjo,F,1995-07-25,alexandra.naranjo@hotmail.com\\nThomas,Anthony Curro,Morgan,GQ,1990-10-07,thomas.morgan@rice-dunn.com\\nLaras,Debbie Carla,Latupono,F,1992-12-16,laras.latupono@gmail.com\\nTiara,Francisca,Bla\\xc5\\xbeek,F,1986-09-15,tiara.bla\\xc5\\xbeek@myers-luna.info\\nJos\\xc3\\xa9,Helena Jennifer,Druso,F,1980-02-29,jos\\xc3\\xa9.druso@gmail.com\\nLuciano,Ricky,Dussen van,M,1981-01-25,luciano.dussen.van@hotmail.com\\nChad,Olivia,Seip,M,1959-12-02,chad.seip@gonzales-may.com\\nRuperto,Quique,Grau,M,1993-10-17,ruperto.grau@hotmail.com\\nHans-Willi,Javier,Corral,M,1984-10-06,hans-willi.corral@hotmail.com\\nDaniele,Edelbert,Nuraini,M,1954-04-17,daniele.nuraini@hotmail.com\\nSheila,Luana,S\\xc3\\xa1enz,F,1986-03-04,sheila.s\\xc3\\xa1enz@pham.com\\nLuigina,Clare,Perry,GN,1940-02-17,luigina.perry@yahoo.com\\nOlivia,Arcelia Elizabeth,Perry,GN,1935-04-25,olivia.perry@yahoo.com\\nKurt,V\\xc3\\xadctor,Mitchell,NB,1999-04-06,kurt.mitchell@smith-wood.info\\nVil\\xc3\\xa9m,Christopher,Newton,M,1998-01-13,vil\\xc3\\xa9m.newton@hotmail.com\\nJennifer,Phyllis,Nilsson,F,1965-10-05,jennifer.nilsson@gmail.com\\nMarcelo,Fabio,Nilsson,M,1964-08-14,marcelo.nilsson@hotmail.com\\nDwayne,Camilo Alfredo,Nilsson,M,2016-09-16,dwayne.nilsson@gmail.com\\nSilvia,Nicolas,Nilsson,GN,2010-09-22,silvia.nilsson@yahoo.com\\nChristopher,Danny Cameron,Nilsson,M,2019-05-29,christopher.nilsson@hotmail.com\\nJo\\xc3\\xa3o Guilherme,Daniel,Schwital,M,1997-05-13,jo\\xc3\\xa3o.guilherme.schwital@turner.com\\nJon\\xc3\\xa1s,Bryan,Browning,M,1997-09-09,jon\\xc3\\xa1s.browning@gmail.com\\nJeton,Callum,Silva,M,1953-12-08,jeton.silva@hotmail.com\\nRebeca,Karen,Castioni,F,1996-02-29,rebeca.castioni@yahoo.com\\nAlexander,Lamar,Turner,M,1997-05-13,alexander.turner@hotmail.com\\nGuadalupe,Cristina Laura,Gir\\xc3\\xb3n,F,1983-04-04,guadalupe.gir\\xc3\\xb3n@yahoo.com\\nBrian,Christian Wayne,Gir\\xc3\\xb3n,M,1977-11-07,brian.gir\\xc3\\xb3n@yahoo.com\\nGina,,Boyer,F,1987-02-26,gina.boyer@coleman.com\\nRoc\\xc3\\xado,Charles,Melo,M,1983-07-15,roc\\xc3\\xado.melo@yahoo.com\\nSusan,Adalberto,Melo,F,1981-09-07,susan.melo@hotmail.com\\nNicol\\xc3\\xa1s,Richard,Melo,M,2016-04-18,nicol\\xc3\\xa1s.melo@hotmail.com\\nMichael,James Emilia,Mar\\xc3\\xadn,M,1998-06-08,michael.mar\\xc3\\xadn@yahoo.com\\nDavid,Carlos,Zaragoza,M,1996-05-18,david.zaragoza@hotmail.com\\nNoa,,Soto,F,1932-07-14,noa.soto@gmail.com\\nFernando,Darryl,Soto,M,1934-01-19,fernando.soto@hotmail.com\\nKatie,Ashley,Martinez,F,1960-06-14,katie.martinez@yahoo.com\\nCraig,Jan,Martinez,M,1957-01-29,craig.martinez@hotmail.com\\nSandra,Elisabeth,Martinez,F,2016-05-16,sandra.martinez@yahoo.com\\nJ\\xc3\\xbalia,Ang\\xc3\\xa9lica Adam,Martinez,T,2018-11-22,j\\xc3\\xbalia.martinez@yahoo.com\\nCalvin,Pedro Craig,Martinez,M,2010-05-22,calvin.martinez@hotmail.com\\nSamuel,Jo\\xc3\\xa3o Guilherme Biel,Rush,M,1997-01-12,samuel.rush@knight-fuller.com\\nM\\xc3\\xb3nica,N\\xc3\\xbaria,Williams,F,1965-04-26,m\\xc3\\xb3nica.williams@gmail.com\\nNoah,Wilfredo,Williams,M,1965-10-22,noah.williams@gmail.com\\nJohn,Kelly,Williams,M,2013-04-30,john.williams@gmail.com\\nAlta  Gracia,Kristen Trinidad,Williams,F,2015-03-13,alta..gracia.williams@yahoo.com\\nCarmen,Melanie,Williams,F,2012-04-28,carmen.williams@hotmail.com\\nTiffany,M\\xc3\\xa1xima,Barbosa,F,1992-09-16,tiffany.barbosa@yahoo.com\\nJos\\xc3\\xa9 Mar\\xc3\\xada,Eric,Linares,M,1999-03-14,jos\\xc3\\xa9.mar\\xc3\\xada.linares@hotmail.com\\nKristy,Sergio Cl\\xc3\\xa0udia,Moreno,F,1989-07-06,kristy.moreno@hart.com\\nCristobal,Mariana,Johnson,M,1969-04-02,cristobal.johnson@king.info\\nHeather,Patricio,Smith,F,1980-12-23,heather.smith@hotmail.com\\nFrancisco,Jordi,Chaparro,M,1954-04-27,francisco.chaparro@yahoo.com\\nCheryl,Jamie Molly,Chaparro,F,1956-07-29,cheryl.chaparro@yahoo.com\\nJessica,,Chaparro,F,2015-03-13,jessica.chaparro@hotmail.com\\nDulce Mar\\xc3\\xada,Mar\\xc3\\xada Bel\\xc3\\xa9n Rolando,Chaparro,GQ,2016-03-22,dulce.mar\\xc3\\xada.chaparro@gmail.com\\nMelinda,Desiree,Rivera,F,1995-09-04,melinda.rivera@gmail.com\\nJos\\xc3\\xa9,Seraf\\xc3\\xadn,Becerra,M,1970-08-06,jos\\xc3\\xa9.becerra@powell.biz\\nJuan,David Manuel,Rodrigues,M,1983-12-31,juan.rodrigues@yahoo.com\\nFelix,Benedetto,Marek,M,1984-09-12,felix.marek@hopkins-rodriguez.net\\nJulie,Greca,Johnston,F,1941-12-21,julie.johnston@gmail.com\\nAna Laura,,Pepe,GQ,1997-08-29,ana.laura.pepe@rogers.com\\nMary,L\\xc3\\xa9na,Leyva,F,1997-04-07,mary.leyva@yahoo.com\\nNoa,Manuelita Tammy,Arnold,F,1970-11-18,noa.arnold@james.com\\nDenis,Dylan Robert,Asenjo,M,1949-07-10,denis.asenjo@gates-thomas.net\\nPaola,Felipe,Montessori,F,1948-11-24,paola.montessori@yahoo.com\\nHeather,Rebecca Natalie,Stone,F,1995-02-25,heather.stone@yahoo.com\\nAlessia,\\xc3\\x81ngela,Clark,F,1982-04-14,alessia.clark@yahoo.com\\nNedda,Crystal,Powell,F,2000-02-18,nedda.powell@hotmail.com\\nAlbino,,Neal,M,1979-01-13,albino.neal@palmer.biz\\nIrene,Andrea,Valencia,F,1978-08-20,irene.valencia@gmail.com\\nMicheal,,Olmo,M,1990-03-26,micheal.olmo@hotmail.com\\nIgnatz,\\xc3\\x81lex,Teixeira,M,1966-07-20,ignatz.teixeira@fisher-cooper.com\\nCarl,Carolina,Cordero,M,1995-12-29,carl.cordero@wright-barnett.com\\nTara,Aurora,Burgos,F,1989-01-05,tara.burgos@austin.org\\nDelfina,,Chang,F,1959-09-08,delfina.chang@bernard-choi.com\\nKelly,Christine Zoe,Wilson,F,1962-10-12,kelly.wilson@smith.biz\\nManuel,Ruggiero,Hahn,M,1989-03-29,manuel.hahn@hotmail.com\\nJennifer,Lynn,Howard,F,1931-02-05,j.howard@yahoo.com\\nBenjamin,Cory Uberto,Howard,M,1931-11-18,benjamin.howard@gmail.com\\nMar\\xc3\\xada Dolores,Margaret,Galarza,F,1969-05-25,mar\\xc3\\xada.dolores.galarza@gmail.com\\nShawn,Porfirio,Canals,M,2000-04-03,shawn.canals@gmail.com\\nHeather,Dawn,Canals,F,2002-12-12,heather.canals@gmail.com\\nBabette,Kathryn,Sharp,F,1981-07-29,babette.sharp@gmail.com\\nBerta,Berta,Rezende,F,1947-07-21,berta.rezende@hotmail.com\\nJusuf,Javier,Rezende,M,1951-01-09,jusuf.rezende@hotmail.com\\nGabriela,Cirino,Miller,M,1993-05-16,gabriela.miller@yahoo.com\\nPeter,Dylan,Ropero,M,1990-03-15,peter.ropero@yahoo.com\\nHelena,Martha,Johnson,F,1997-07-03,helena.johnson@johnson.com\\nJared,,Chadwick,M,1992-11-09,jared.chadwick@hotmail.com\\nOdette,Luisa Sybilla,Merino,F,2000-06-17,odette.merino@yahoo.com\\nEric,Abbie,Harris,T,2002-05-02,eric.harris@gmail.com\\nLauren,Stefani,Harris,T,2003-12-23,lauren.harris@hotmail.com\\nCoral,S\\xc3\\xadlvia Stephany,Permadi,F,1995-02-19,coral.permadi@gmail.com\\nJohn,Cameron,Permadi,M,1990-07-31,john.permadi@hotmail.com\\nMichael,Armando,Aumann,M,2000-02-21,michael.aumann@gmail.com\\nCalebe,Paolo,Gutierrez,M,1993-03-28,calebe.gutierrez@gmail.com\\nDavid,Robert Donald,Sanches,M,1980-06-07,david.sanches@yahoo.com\\nFabrizio,,Brown,M,1991-02-15,fabrizio.brown@yahoo.com\\nFrancisca,Esmarelda Anna,Gallego,F,1991-12-30,francisca.gallego@wise.com\\nModesto,Javier,Wilms,T,2001-04-26,modesto.wilms@gmail.com\\nMar\\xc3\\xada Del Carmen,Laura,Lewis,F,1999-10-05,mar\\xc3\\xada.del.carmen.lewis@yahoo.com\\nJack,Matthew,Bolton,M,1964-04-27,jack.bolton@hotmail.com\\nTina,Annetta,Bolton,F,1967-06-18,tina.bolton@yahoo.com\\nLisa,Cathy Chloe,Bolton,F,2016-05-07,lisa.bolton@hotmail.com\\nMauricio,Pol,Jordan,M,1995-11-28,mauricio.jordan@yahoo.com\\nBiagio,Thomas Teodoro,Cole,M,1952-07-22,biagio.cole@hanna.com\\nJasmine,Kimberly,Williams,F,1993-05-07,jasmine.williams@macdonald.biz\\nLaura,Nasab,Schmidt,T,1939-09-15,laura.schmidt@hotmail.com\\nPaul-Heinz,Enrique,Williams,M,1938-05-08,paul-heinz.williams@hotmail.com\\nShannon,Julia Amy,Williams,F,1937-06-18,shannon.williams@gmail.com\\nAdam,Paul,Elorza,M,1996-10-22,adam.elorza@gmail.com\\nAlana,Christine,Atkins,F,1990-12-11,alana.atkins@yahoo.com\\nIgnacio,Teresa,Cobos,F,1968-03-03,ignacio.cobos@schwartz.com\\nRosa,Brenda Leticia,Saura,F,1968-07-15,rosa.saura@yahoo.com\\nIsidoro,Lucas,Pratt,T,1982-01-15,isidoro.pratt@hotmail.com\\nAlena,Maria Alice,Evans,F,1996-04-08,alena.evans@parker-bowman.com\\nGiuliano,Bohuslav,Carducci,M,1964-09-04,giuliano.carducci@yahoo.com\\nLuisa,Kelly,Carducci,F,1964-02-15,luisa.carducci@yahoo.com\\nNadia,David,Carducci,M,2011-05-03,nadia.carducci@gmail.com\\nDominik,Marino Timothy,Carducci,M,2012-08-24,dominik.carducci@yahoo.com\\nSandra,Monica,Arguello,F,2000-10-06,sandra.arguello@miller.com\\nPlinio,Murilo,Puga,M,1995-12-07,plinio.puga@hotmail.com\\nFernando,Danielle Abril,Cobb,F,1991-09-05,fernando.cobb@green-jackson.com\\nMelita,Swantje,Kopeck\\xc3\\xa1,F,1988-06-27,melita.kopeck\\xc3\\xa1@hotmail.com\\nJulio,Manuel,Serna,M,1959-05-22,julio.serna@hotmail.com\\nOtakar,,Morales,M,1938-08-02,otakar.morales@hotmail.com\\nEmily,Uchita,Harris,F,1990-11-26,emily.harris@davenport-garcia.net\\nDolores,Vanessa,Cuomo,F,1932-05-29,dolores.cuomo@yahoo.com\\nMar\\xc3\\xada Teresa,Gert,Schmidt,M,1998-07-20,mar\\xc3\\xada.teresa.schmidt@gmail.com\\nVanesa,Chl\\xc3\\xb3e,Ligorio,F,2001-11-10,vanesa.ligorio@hotmail.com\\nAmanda,Catherine,Scialpi,F,2001-11-09,amanda.scialpi@gmail.com\\nJulie,Regina,Espa\\xc3\\xb1a,F,1980-11-23,julie.espa\\xc3\\xb1a@hotmail.com\\nGustav,,Schultz,M,1995-07-22,gustav.schultz@wells.info\\nCristina,Mar\\xc3\\xada Antonia,Martin,F,1982-09-21,cristina.martin@coleman.com\\nIngrid,\\xc3\\x81frica,Gonzales,F,1986-01-29,ingrid.gonzales@bartlett-arnold.com\\nGeorge,,Vald\\xc3\\xa9s,GQ,1957-03-17,george.vald\\xc3\\xa9s@johnson.com\\nRoman,Vito Aaron,Delacruz,M,1981-11-13,roman.delacruz@gmail.com\\nSiska,Deborah Sof\\xc3\\xada,Delacruz,F,1978-04-07,siska.delacruz@yahoo.com\\nMarisol,Gianluca,Corona,M,1993-08-27,marisol.corona@parks-hernandez.com\\nIrene,,Lopez,F,1985-02-01,irene.lopez@yahoo.com\\nPol,,da Rocha,NA,1968-07-15,pol.da.rocha@brown.com\\nNil,Eduardo,Caldwell,M,2000-07-24,nil.caldwell@lin-beard.com\\nPia,Courtney,Bustos,F,1963-09-29,pia.bustos@yahoo.com\\nGoffredo,Lawrence,Bustos,M,1958-02-23,goffredo.bustos@yahoo.com\\nGuadalupe,,Bustos,M,2016-09-10,guadalupe.bustos@yahoo.com\\nReynaldo,Al\\xc5\\xbeb\\xc4\\x9bta Justin,Robinson,GQ,1956-12-23,reynaldo.robinson@reese.com\\nLaia,Kathryn Natalie,N\\xc4\\x9bmcov\\xc3\\xa1,F,1956-09-13,laia.n\\xc4\\x9bmcov\\xc3\\xa1@lewis-mendez.info\\nRen\\xc3\\xa9,,Perry,M,1994-03-30,ren\\xc3\\xa9.perry@yahoo.com\\nNatividad,Dafne,Rubio,F,1940-05-23,natividad.rubio@yahoo.com\\nFabiola,Mark Heliodoro,Porter,M,1985-02-03,fabiola.porter@hernandez-tucker.com\\nNelly,Marissa Elias,Cox,F,1980-03-17,nelly.cox@hotmail.com\\nTara,,Krein,F,1959-03-08,tara.krein@martinez-taylor.com\\nLeonel,Esperanza,Sosa,M,1964-08-07,leonel.sosa@clark.com\\nDenise,,Lamborghini,F,1938-02-28,denise.lamborghini@yahoo.com\\nZo\\xc3\\xa9,David,Lamborghini,M,1935-08-06,zo\\xc3\\xa9.lamborghini@yahoo.com\\nWilliam,Rodney Lu\\xc3\\xads,Figueroa,GN,2002-12-15,william.figueroa@hotmail.com\\nMarta,,Hudson,F,1961-11-11,marta.hudson@hotmail.com\\nSaverio,Baldur James,Hudson,M,1960-09-03,saverio.hudson@yahoo.com\\nArlet,,Hudson,F,2015-07-11,arlet.hudson@yahoo.com\\nRenee,Joyce,Hudson,F,2017-05-31,renee.hudson@yahoo.com\\nEnrico,,Hudson,M,2012-01-19,enrico.hudson@yahoo.com\\nMary,Bianca,Torre,F,1977-12-13,mary.torre@yahoo.com\\nBethany,Erika Veronica,T\\xc3\\xa9llez,F,1981-09-10,bethany.t\\xc3\\xa9llez@walker.com\\nElma,Linda,Woods,F,1999-12-27,elma.woods@anthony.com\\nHeather,Ashley,Hutchinson,F,1985-03-19,heather.hutchinson@andrews.com\\nMartina,,Omma,F,1981-11-17,martina.omma@hotmail.com\\nTade\\xc3\\xa1\\xc5\\xa1,Lucca,Lewis,M,1944-04-15,tade\\xc3\\xa1\\xc5\\xa1.lewis@gmail.com\\nCharlene,Janice,Infantino,F,2004-01-30,charlene.infantino@yahoo.com\\nDelia,Bruno,Granado,M,1988-06-09,delia.granado@wallace.net\\nGeoffrey,James,Gierschner,M,1984-06-22,geoffrey.gierschner@hotmail.com\\nMackenzie,,Mcdaniel,F,1994-08-19,mackenzie.mcdaniel@yahoo.com\\nGaetano,David Ronald,Pellicer,M,1999-07-20,gaetano.pellicer@gmail.com\\nAmanda,Elena,Llanos,F,1941-09-21,amanda.llanos@hotmail.com\\nRafael,Leo,Llanos,M,1936-01-07,rafael.llanos@gmail.com\\nLindsey,Larissa,Olivas,NB,1993-10-31,lindsey.olivas@goodman.com\\nJoan,Zuzana,Moreno,T,2003-07-19,joan.moreno@yahoo.com\\nSteven,Mar\\xc3\\xada Elena,Ar\\xc3\\xa9valo,M,1998-10-15,steven.ar\\xc3\\xa9valo@terry-johnson.info\\nPatricia,,Vestergaard,F,1993-12-06,patricia.vestergaard@gmail.com\\nBenthe,Eva,Mel\\xc3\\xa9ndez,F,1987-12-03,benthe.mel\\xc3\\xa9ndez@hotmail.com\\nVanessa,Erin Rosalia,Fuentes,F,1963-09-12,vanessa.fuentes@watson.com\\nNicol\\xc3\\xa1s,Halim,Comas,M,1990-04-10,nicol\\xc3\\xa1s.comas@hotmail.com\\nCassie,Margit,Choi,F,1987-03-21,cassie.choi@yahoo.com\\nLeonardo,Stephen,K\\xc3\\xa4gi,M,1968-12-07,leonardo.k\\xc3\\xa4gi@hotmail.com\\nChristopher,Cody,Alegria,M,2000-05-15,christopher.alegria@gmail.com\\nJan,David,Moore,M,1994-09-26,jan.moore@nolan.biz\\nKimberly,Ona Olivia,Underwood,F,1999-06-18,kimberly.underwood@yahoo.com\\nDina,Laia,Macias,F,1990-03-09,dina.macias@hotmail.com\\nJana,Ashley,Agudo,F,1993-10-10,jana.agudo@hotmail.com\\nLaura,Mar\\xc3\\xada Del Carmen,\\xc5\\xa0imkov\\xc3\\xa1,F,1984-03-28,laura.\\xc5\\xa1imkov\\xc3\\xa1@hotmail.com\\nLuiz Fernando,Amelia Paulo,\\xc5\\xa0imkov\\xc3\\xa1,M,1979-05-18,luiz.fernando.\\xc5\\xa1imkov\\xc3\\xa1@gmail.com\\nRussell,Nikolai,Wright,M,1980-11-24,russell.wright@campbell.info\\nJanice,H\\xc3\\xa9ctor Brooke,Williams,F,1969-09-20,janice.williams@roman-wilson.com\\nAmedeo,David Joseph,Bustos,M,1957-05-30,amedeo.bustos@nunez-blair.net\\nRosario,Mar\\xc3\\xada Diane,Duran,F,1979-10-22,rosario.duran@hotmail.com\\nShannon,Anna-Lena,Ceballos,F,2001-02-25,shannon.ceballos@yahoo.com\\nBrian,Jon\\xc3\\xa1s,K\\xc5\\x99\\xc3\\xad\\xc5\\xbeov\\xc3\\xa1,M,1999-01-20,brian.k\\xc5\\x99\\xc3\\xad\\xc5\\xbeov\\xc3\\xa1@parker.net\\nSean,,Silveira,T,1934-06-13,sean.silveira@yahoo.com\\nDebbie,Yuridia,Silveira,T,1939-07-16,debbie.silveira@yahoo.com\\nCristina,,Williams,F,1941-09-09,cristina.williams@jordan.com\\nJ\\xc3\\xbalia,Vilma,Benavent,F,1991-09-17,j\\xc3\\xbalia.benavent@hotmail.com\\nPorfirio,Jos\\xc3\\xa9 Mar\\xc3\\xada,Gehringer,M,1994-10-17,porfirio.gehringer@yahoo.com\\nEsther,,Gehringer,F,1997-09-25,esther.gehringer@gmail.com\\nIsrael,Ugolino,Gehringer,M,2018-06-13,israel.gehringer@hotmail.com\\nMeryem,Christine,Gehringer,F,2010-10-24,meryem.gehringer@yahoo.com\\nAlex,Ferm\\xc3\\xadn Yago,Gehringer,M,2013-02-13,alex.gehringer@gmail.com\\nJessica,Barbara,Schaefer,F,1996-08-24,jessica.schaefer@gmail.com\\nAurelio,To\\xc3\\xb1o,Haro,M,1986-01-07,aurelio.haro@roberts-todd.com\\nLuiz Felipe,Lucas,Brown,M,2003-09-01,luiz.felipe.brown@hotmail.com\\nMark,Jos\\xc3\\xa9 Mar\\xc3\\xada,Letta,M,1996-10-27,mark.letta@yahoo.com\\nEraldo,Jason,Gonzalez,M,1997-09-23,eraldo.gonzalez@yahoo.com\\nMario,Angela,Su\\xc3\\xa1rez,F,1960-06-03,mario.su\\xc3\\xa1rez@bowen.com\\nLuiz Fernando,,Miller,M,1983-04-05,luiz.fernando.miller@norris.info\\nAlma,Bartolom\\xc3\\xa9 Edward,Martins,M,1989-11-17,alma.martins@hotmail.com\\nTracy,Marcus,Smith,NA,1965-05-09,tracy.smith@fowler.net\\nGundhild,Melania,Covarrubias,F,1961-01-06,gundhild.covarrubias@gmail.com\\nJo\\xc3\\xa3o Miguel,Mike Marisol,Covarrubias,M,1964-06-29,jo\\xc3\\xa3o.miguel.covarrubias@yahoo.com\\nReina,Emily,Covarrubias,F,2018-04-18,reina.covarrubias@gmail.com\\nColleen,Mercedes M\\xc3\\xb3nica,Covarrubias,F,2011-07-08,colleen.covarrubias@yahoo.com\\nDanilo,Irwan,Covarrubias,M,2010-06-23,danilo.covarrubias@yahoo.com\\nJordan,Jorge Luis H\\xc3\\xa9ctor,Giles,M,1986-03-11,jordan.giles@hotmail.com\\nKatherine,Amy,Bell,F,1995-06-28,katherine.bell@hotmail.com\\nAustin,Robert,Chapa,M,1998-05-10,austin.chapa@hotmail.com\\nMohammad,Reece,Tamburi,M,1997-11-27,mohammad.tamburi@hotmail.com\\nLeni,Eric,Hoffman,T,2003-02-15,leni.hoffman@hotmail.com\\nAmanda,,Carroll,F,1985-06-17,amanda.carroll@cox.net\\nJordi,Kevin,Weaver,GQ,1998-07-08,jordi.weaver@hotmail.com\\nBarbara,April,Sparks,F,1965-06-26,barbara.sparks@smith.com\\nWendolin,Stacy Tracy,Simon,F,1982-03-13,wendolin.simon@hall.com\\nDaniel,Peter David,Moraes,M,1945-05-24,daniel.moraes@yahoo.com\\nNicole,Val\\xc3\\xa8ria,Moraes,F,1939-06-03,nicole.moraes@hotmail.com\\nLili,Mariah Bruni,Chandler,F,1963-07-15,lili.chandler@hotmail.com\\nRomuald,Ariadna,Chandler,M,1963-11-16,romuald.chandler@gmail.com\\nAlexandr,Jose,Chandler,GN,2011-10-04,alexandr.chandler@gmail.com\\nAl\\xc3\\xadcia,Susan,Levy,F,1988-11-08,al\\xc3\\xadcia.levy@yahoo.com\\nDerrick,Roger,Rocamora,M,1996-08-18,derrick.rocamora@yahoo.com\\nEkkehard,,Hotz,T,1996-09-25,ekkehard.hotz@hotmail.com\\nEmma,Gala Isabel,Cabrera,F,1997-06-06,emma.cabrera@gmail.com\\nEugenio,Pastor,Kelley,M,1957-01-04,eugenio.kelley@dean.biz\\nHaley,N\\xc3\\xbaria Abigail,Villalpando,F,1984-09-12,haley.villalpando@yahoo.com\\nJavier,William,Villalpando,M,1982-08-07,javier.villalpando@yahoo.com\\nCristina,Joshua Katie,Villalpando,NB,2013-03-16,cristina.villalpando@hotmail.com\\nJeffery,Pascual,Villalpando,M,2012-03-14,jeffery.villalpando@yahoo.com\\nNoel,Bruni,Robinson,GQ,1981-10-12,noel.robinson@yahoo.com\\nKaren,David,Saura,F,1962-02-20,karen.saura@hotmail.com\\nJimmy,Matthew,Saura,M,1955-12-28,jimmy.saura@gmail.com\\nKathy,Mar\\xc3\\xada Del Carmen Dawn,Saura,F,2012-05-16,kathy.saura@hotmail.com\\nIsabela,Cynthia,Berger,F,1981-08-07,isabela.berger@moyer.com\\nMicaela,Sandra,Martinez,F,1974-11-13,micaela.martinez@gmail.com\\nAdam,Scott,Martinez,M,1979-10-17,adam.martinez@hotmail.com\\nJennifer,Frank,Martinez,GN,2016-12-04,jennifer.martinez@yahoo.com\\nEdda,Katie,Martinez,F,2017-12-02,edda.martinez@hotmail.com\\nMaria Julia,Daniel,Luna,GQ,1989-02-10,maria.julia.luna@bradley.com\\nBradley,,Carbonell,M,1990-09-10,bradley.carbonell@gmail.com\\nClaire,Cristina,Carbonell,F,1995-10-31,claire.carbonell@yahoo.com\\nVagn,,Carbonell,M,2015-12-07,vagn.carbonell@hotmail.com\\nCynthia,Simona,Hernandez,F,1989-09-11,cynthia.hernandez@cantu-munoz.com\\nLisa,Pamela,Hasanah,F,1944-01-30,lisa.hasanah@gmail.com\\nAdolfo,Andrew,Hasanah,M,1944-10-01,adolfo.hasanah@yahoo.com\\nJacob,Ian Gregory,Toro,M,1999-02-07,jacob.toro@yahoo.com\\nMichelle,Marisol Barbara,Morrow,F,2000-01-23,michelle.morrow@hotmail.com\\nNathan,Paul,Morrow,M,1996-03-12,nathan.morrow@yahoo.com\\nMelissa,Sally,Kusumo,F,1970-07-20,melissa.kusumo@rice.net\\nJoanne,Aneta,Polani,F,1949-09-29,joanne.polani@yahoo.com\\nKenneth,,Polani,M,1944-01-06,kenneth.polani@hotmail.com\\nKenneth,Eduardo Benjamin,Vincent,M,1992-12-14,kenneth.vincent@murphy.com\\nJuan Antonio,Troy,Perez,M,1981-12-26,juan.antonio.perez@cameron.com\\nElliot,,Crawford,M,1985-05-08,elliot.crawford@hotmail.com\\nEttore,Olaf,Wood,M,1984-06-09,ettore.wood@yahoo.com\\nDiana,Paula,Robles,F,1995-06-23,diana.robles@henry-gregory.com\\nMeredith,Louise Noa,James,F,1988-07-23,meredith.james@hotmail.com\\nElena,Paulo,James,M,1990-04-07,elena.james@gmail.com\\nMaike,Dorothy,James,F,2018-04-12,maike.james@hotmail.com\\nJason,Karina,James,NB,2019-08-25,jason.james@yahoo.com\\nLambert,,Najmudin,M,1951-10-10,lambert.najmudin@hotmail.com\\nJos\\xc3\\xa9,,Najmudin,F,1949-01-04,jos\\xc3\\xa9.najmudin@yahoo.com\\nPaca,Marleen,Kirby,F,1957-04-19,paca.kirby@adams.org\\nTyler,Cristal,Ribeiro,M,2003-03-18,tyler.ribeiro@gmail.com\\nRodrigo,Bruno,Galv\\xc3\\xa1n,M,1970-08-13,rodrigo.galv\\xc3\\xa1n@sellers.info\\nJames,Sarah,Chac\\xc3\\xb3n,NB,1998-03-19,james.chac\\xc3\\xb3n@yahoo.com\\nErmes,Timothy,Kraushaar,M,1966-09-28,ermes.kraushaar@matthews.com\\nMattias,Enzo,Carroll,M,1953-08-07,mattias.carroll@brooks-smith.org\\nRoman,Jorge,Adams,M,1993-03-12,roman.adams@gmail.com\\nChristina,Katherine Lea,Nissen,F,1993-09-29,christina.nissen@hotmail.com\\nAd\\xc3\\xa1n,Patrick,Sanchez,M,1994-02-27,ad\\xc3\\xa1n.sanchez@gmail.com\\nSaskia,Mar\\xc3\\xada Teresa,Pratt,F,1952-09-16,saskia.pratt@sandoval.com\\nTina,,Soria,F,1991-08-03,tina.soria@hotmail.com\\nChe,Uberto,Sch\\xc3\\xbcler,M,1997-08-26,che.sch\\xc3\\xbcler@yahoo.com\\nMar\\xc3\\xada Cristina,Jordana,Reynoso,F,1965-05-18,mar\\xc3\\xada.cristina.reynoso@hotmail.com\\nBlanca,James,Reynoso,M,1969-08-15,blanca.reynoso@hotmail.com\\nLisa,,Reynoso,F,2010-12-05,lisa.reynoso@gmail.com\\nMarc,Patricia,Svobodov\\xc3\\xa1,GQ,1992-12-01,marc.svobodov\\xc3\\xa1@nguyen.com\\nBurkhard,,Price,M,2000-01-23,burkhard.price@yahoo.com\\nGian,Jos\\xc3\\xa9,Waller,M,2001-09-04,gian.waller@gmail.com\\nCarolina,Jorge,Giorgetti,GQ,1981-06-27,carolina.giorgetti@gmail.com\\nMargaret,Julie Debbie,Pol\\xc3\\xa1kov\\xc3\\xa1,F,1992-11-19,margaret.pol\\xc3\\xa1kov\\xc3\\xa1@richards.biz\\nPaul,Armando,Ford,M,1988-11-20,paul.ford@gmail.com\\nCarolina,Rita Maria Clara,Burgos,F,1992-05-27,carolina.burgos@caldwell.com\\nGlenn,Melchor Juan Francisco,Ara\\xc3\\xbajo,M,2001-03-04,glenn.ara\\xc3\\xbajo@gmail.com\\nCristina,Lindsey Emily,G\\xc3\\xa1mez,F,1992-09-30,cristina.g\\xc3\\xa1mez@hotmail.com\\nChristine,Cathy J\\xc3\\xbalia,Mota,F,1985-01-26,christine.mota@fox.com\\nHarry,James \\xc3\\x81ngel,Valdez,M,1995-07-28,harry.valdez@gmail.com\\nMichael,Bernard,David,M,1939-05-19,michael.david@yahoo.com\\nHelen,Sabine,David,F,1940-07-17,helen.david@gmail.com\\nGeoffrey,Filip,Baeza,M,1995-03-28,geoffrey.baeza@hotmail.com\\nAleix,Jos\\xc3\\xa9 Mari Thomas,Begum,M,1980-04-21,aleix.begum@young.com\\nAnnegrete,Jo\\xc3\\xa3o Guilherme,Ba\\xc3\\xb1uelos,NB,1998-10-19,annegrete.ba\\xc3\\xb1uelos@hotmail.com\\nMiguel,Joseph Filippo,Jones,M,1960-11-04,miguel.jones@hotmail.com\\nCaroline,Lisa,Jones,F,1957-04-26,caroline.jones@hotmail.com\\nDebra,Klara,Jones,F,2011-06-20,debra.jones@hotmail.com\\nDaniela,Arnau,Jones,M,2018-03-12,daniela.jones@gmail.com\\nFrancisco,Mark,Elizondo,M,2000-08-22,francisco.elizondo@hotmail.com\\nPablo,Ang\\xc3\\xa9lica Mar\\xc3\\xada Del Carmen,Tornatore,F,1997-01-06,pablo.tornatore@hotmail.com\\nSophie,Felisa,Portmann,F,1989-10-17,sophie.portmann@sharp.com\\nEliseo,,Steiger,M,1969-05-13,eliseo.steiger@yahoo.com\\nAmanda,,Steiger,F,1969-02-04,amanda.steiger@gmail.com\\nJustin,Antonio,Steiger,M,2017-12-10,justin.steiger@gmail.com\\nCarl,James,Mcintyre,NA,1983-12-14,carl.mcintyre@huffman-hernandez.biz\\nKelsey,Tina Natasha,Barber,F,1974-07-08,kelsey.barber@gmail.com\\nLaura,,Barber,F,2015-03-28,laura.barber@gmail.com\\nAbraham,Sean,Barber,M,2018-02-04,abraham.barber@yahoo.com\\nAntonia,,Rowe,F,1998-06-04,antonia.rowe@gmail.com\\nTravis,Jared Miriam,Rowe,M,1999-03-19,travis.rowe@yahoo.com\\nJames,Robin,Campbell,M,1998-09-15,james.campbell@gmail.com\\nKimberly,,Jackson,F,1980-08-12,kimberly.jackson@yahoo.com\\nRichard,Albert,Jackson,M,1983-01-06,richard.jackson@gmail.com\\nFedele,Jes\\xc3\\xbas,Jackson,M,2013-05-06,fedele.jackson@gmail.com\\nGesine,Eufemia,Blanes,F,1953-08-23,gesine.blanes@hotmail.com\\nMichael,Tage,Blanes,M,1947-11-16,michael.blanes@gmail.com\\nIsaac,Victor,Davidson,M,1999-05-17,isaac.davidson@yahoo.com\\nJuan Carlos,Brittany Jessica,Davidson,F,1993-03-31,juan.carlos.davidson@yahoo.com\\nAngelita,Eugenio,Tejera,F,1970-05-15,angelita.tejera@brooks.com\\nAlexis,Abraham,Rodrigues,F,1990-10-21,alexis.rodrigues@yahoo.com\\nJoshua,William,Rodrigues,M,1993-05-12,joshua.rodrigues@hotmail.com\\nFrancesco,Emilia,Sales,M,1990-11-12,francesco.sales@yahoo.com\\nCarlos,,Hill,M,1974-11-09,carlos.hill@jones.org\\nMauro,Aaron Ludv\\xc3\\xadk,Miller,M,1998-04-07,mauro.miller@gmail.com\\nT\\xc3\\xbcrkan,Jasmine Michelle,Miller,F,2001-08-27,t\\xc3\\xbcrkan.miller@yahoo.com\\nRosa,Lorena,Miller,M,1986-04-08,rosa.miller@mann.com\\nNil,James,Moreno,T,1982-09-07,nil.moreno@yahoo.com\\nKevin,Alexander Trevor,Arcos,M,1994-05-04,kevin.arcos@crosby-barnett.com\\nMariano,Brian,Samaniego,M,1980-05-23,mariano.samaniego@yahoo.com\\nBernardo,Hilda,Samaniego,F,1982-11-13,bernardo.samaniego@gmail.com\\nDaniel,Nancy,Samaniego,F,2015-05-15,daniel.samaniego@hotmail.com\\nRachel,,Villanueva,F,1988-03-15,rachel.villanueva@gmail.com\\nRandy,,Villanueva,M,1992-02-05,randy.villanueva@hotmail.com\\nSara,Kyle Gregorio,Villanueva,T,2010-07-21,sara.villanueva@gmail.com\\nAmber,Sara \\xc3\\x81ngela,Young,F,1950-12-11,amber.young@hotmail.com\\nDouglas,Mariusz Riley,Young,M,1947-08-16,douglas.young@gmail.com\\nMar\\xc3\\xada Luisa,Amanda,Butler,F,1991-08-01,mar\\xc3\\xada.luisa.butler@gmail.com\\nBruna,Nicolas,Marino,T,1993-10-02,bruna.marino@yahoo.com\\nElizabeth,Pietra,Kennedy,F,1984-12-23,elizabeth.kennedy@yahoo.com\\nRonald,Antonio,Archer,M,1999-10-29,ronald.archer@gmail.com\\nClaudio,Kelly,Pignatti,T,2004-10-28,claudio.pignatti@hotmail.com\\nCalogero,Enzo,Negrete,GN,1970-08-26,calogero.negrete@davis.net\\nRobin,Veronica Caitlin,Mercader,F,1992-06-26,robin.mercader@gmail.com\\nBecky,Tonya,Marqu\\xc3\\xa9s,F,1996-06-11,becky.marqu\\xc3\\xa9s@yahoo.com\\nTammy,Agatha,Lopez,F,1989-06-20,tammy.lopez@yahoo.com\\nPhillip,Daniel,Lopez,M,1986-07-14,phillip.lopez@yahoo.com\\nBeth,Maximiliano Erin,Lopez,F,2013-12-25,beth.lopez@hotmail.com\\nKathleen,Nicolasa,Lopez,F,2019-10-03,kathleen.lopez@hotmail.com\\nKristen,Isabel Haley,Lopez,F,2013-12-25,kristen.lopez@yahoo.com\\nJeffrey,Michael,Weitzel,M,1997-09-12,jeffrey.weitzel@yahoo.com\\nCharles,,Mcconnell,M,2000-12-05,charles.mcconnell@gmail.com\\nMeghan,Maria Sophia Sof\\xc3\\xada,Carr,F,1952-05-21,meghan.carr@oconnell.info\\nNeil,Francesco,Battisti,M,1953-10-08,neil.battisti@gmail.com\\nItziar,,Egli,F,2000-04-01,itziar.egli@hotmail.com\\nJohn,Jorge Luis Michael,Carullo,M,1997-06-03,john.carullo@hotmail.com\\nJoshua,Julio,Muro,M,1935-02-25,joshua.muro@hotmail.com\\nMichael,,Vesel\\xc3\\xbd,M,1993-01-09,michael.vesel\\xc3\\xbd@montes-rivera.com\\nBenjamin,Jan-Peter,Riehl,M,1988-05-19,benjamin.riehl@rodriguez.com\\nPaoletta,Chl\\xc3\\xb3e,Buck,F,1982-09-10,paoletta.buck@yahoo.com\\nOrazio,Brian,Carroll,M,1964-04-14,orazio.carroll@johnson.com\\nPorfirio,Samantha,da Mata,F,1949-01-09,porfirio.da.mata@gmail.com\\nDaniel,,da Mata,M,1950-07-08,daniel.da.mata@yahoo.com\\nMegan,Aldo Josette,Robinson,F,1986-07-20,megan.robinson@dennis.com\\nJoshua,Shane,George,M,1987-12-31,joshua.george@patel.com\\nPedro,Marcos Vinicius Mitchell,Newton,M,1966-05-10,pedro.newton@hood.com\\nCamille,Cecilia,Turner,F,1987-02-14,camille.turner@hotmail.com\\nLuiz Felipe,Benny,Ellison,M,1943-10-06,luiz.felipe.ellison@webster.com\\nMichele,Barbara,Crespo,F,1956-08-14,michele.crespo@hale-chan.com\\nJos\\xc3\\xa9 Luis,,Smith,M,1980-12-27,jos\\xc3\\xa9.luis.smith@gmail.com\\nJohn,Kelly,Myers,NA,1986-11-22,john.myers@bell-hartman.com\\nCici,Adriana,Williams,F,1986-04-19,cici.williams@torres.com\\nCamila,Jana,Mena,T,1998-02-23,camila.mena@smith.biz\\nAnn,J\\xc3\\xbalia,Sanchez,F,1962-10-26,ann.sanchez@hotmail.com\\nJohn,George,Sanchez,M,1963-02-08,john.sanchez@yahoo.com\\nDavid,Guido Emiliano,Sanchez,M,2012-08-27,david.sanchez@yahoo.com\\nIan,Isaiah Jordi,Hasler,M,1995-03-08,ian.hasler@yahoo.com\\nIsaiah,Jose,Morales,M,1971-07-02,isaiah.morales@hotmail.com\\nNoa,,Morales,F,1976-07-18,noa.morales@gmail.com\\nRostislav,Martin,Morales,M,2012-05-14,rostislav.morales@yahoo.com\\nAmanda,Gabrielle Serafina,Morales,F,2011-11-27,amanda.morales@hotmail.com\\nAntonia,Alfredo,Morales,M,2014-02-25,antonia.morales@hotmail.com\\nCarla,Caroline,Morales,F,2014-10-25,carla.morales@gmail.com\\nDominika,Chelsea,Arnal,F,1949-01-05,dominika.arnal@fischer.info\\nErica,Kim,Vl\\xc4\\x8dek,NA,2000-05-04,erica.vl\\xc4\\x8dek@hotmail.com\\nJoaqu\\xc3\\xadn,Tammy,Cuadrado,F,1983-02-10,joaqu\\xc3\\xadn.cuadrado@hotmail.com\\nFranca,,Ramirez,NB,1997-01-27,franca.ramirez@yahoo.com\\nMonica,Martani,Due\\xc3\\xb1as,T,1997-04-03,monica.due\\xc3\\xb1as@gmail.com\\nPaul,Howard Edward,Lollobrigida,M,1983-07-02,paul.lollobrigida@yahoo.com\\nAdriana,Lore,Castro,F,1989-09-24,adriana.castro@yahoo.com\\nDevi,,Lailasari,F,1977-07-13,devi.lailasari@gmail.com\\nAngie,Martha Ant\\xc3\\xb2nia,Moore,F,1998-03-27,angie.moore@hotmail.com\\nMary,Barbora,Almeida,NA,1986-12-01,mary.almeida@braun.com\\nBlake,Tyler,Scott,GN,1992-02-07,blake.scott@buck-watkins.org\\nMichael,Nicolai,Harris,M,1989-08-01,michael.harris@gmail.com\\nMar\\xc3\\xada Eugenia,Garrett,Harris,M,2012-04-05,mar\\xc3\\xada.eugenia.harris@yahoo.com\\nKaitlyn,Concetta,Harris,F,2018-10-10,kaitlyn.harris@hotmail.com\\nGunar,William Ludovico,Harris,M,2014-02-16,gunar.harris@gmail.com\\nCelia,,Kelley,F,1945-04-10,celia.kelley@yahoo.com\\nRyan,Thomas,Kelley,M,1941-10-17,ryan.kelley@hotmail.com\\nDagmar,Molly,Wells,F,1979-10-21,dagmar.wells@gmail.com\\nDylan,Fidel,Carreras,M,1939-09-06,dylan.carreras@yahoo.com\\nClaudia,Ana,Carreras,F,1943-01-02,claudia.carreras@gmail.com\\nJavier,Frank,Viana,M,1931-09-28,javier.viana@collier.com\\nRaharja,,Cunningham,M,1952-10-04,raharja.cunningham@harris.info\\nGerm\\xc3\\xa1n,Felix,Taylor,M,1991-05-31,germ\\xc3\\xa1n.taylor@hotmail.com\\nJacob,Clara,Baird,NA,1996-05-12,jacob.baird@hotmail.com\\nAlexandria,Mar\\xc3\\xada Teresa,West,F,1987-09-14,alexandria.west@hotmail.com\\nAndrew,Luis Miguel,Gay,M,1999-09-10,andrew.gay@gmail.com\\nStephen,,Thomas,M,1995-09-13,stephen.thomas@hotmail.com\\nFrida,V\\xc3\\xa1clav Blake,Rael,M,1994-07-13,frida.rael@gmail.com\\nTerry,,Maynard,M,2000-02-26,terry.maynard@baker.com\\nAaron,James Thomas,Valenzuela,M,1987-10-30,aaron.valenzuela@gmail.com\\nHolly,,Proch\\xc3\\xa1zka,T,1955-12-24,holly.proch\\xc3\\xa1zka@edwards.com\\nDonald,,Lynch,M,1942-01-14,donald.lynch@hotmail.com\\nKaitlin,Sarah,Rodrigues,F,2002-10-18,kaitlin.rodrigues@gmail.com\\nEva,S\\xc3\\xadlvia,Brooks,F,1984-06-29,eva.brooks@gmail.com\\nVittorio,,Perera,NB,1977-09-29,vittorio.perera@johnson-estes.org\\nTyler,Juan,Montgomery,M,1990-02-25,tyler.montgomery@gmail.com\\nVictoria,Luna,Montgomery,F,1992-12-23,victoria.montgomery@hotmail.com\\nZelda,April,Montgomery,F,2015-02-14,zelda.montgomery@hotmail.com\\nVerner,,Smith,M,2000-06-24,verner.smith@williams.net\\nMitzy,Margarita Sylvia,Taylor,F,1999-05-18,mitzy.taylor@kemp.com\\nXavier,Yolanda,Meza,M,1999-04-24,xavier.meza@gmail.com\\nMichael,Celal Matthew,Beck,M,2001-01-24,michael.beck@yahoo.com\\nMarion,Mar\\xc3\\xada Teresa Noa,Ure\\xc3\\xb1a,F,1970-01-03,marion.ure\\xc3\\xb1a@duffy-valencia.org\\nMark,,Sloan,M,1944-02-04,mark.sloan@gmail.com\\nCl\\xc3\\xa0udia,Debra Wilfriede,Sloan,F,1942-07-21,cl\\xc3\\xa0udia.sloan@hotmail.com\\nSeline,Lina,Ceja,F,1993-02-01,seline.ceja@flores.com\\nScott,Brian,Byrd,M,1991-08-29,scott.byrd@weaver.com\\nTecla,Silvana,Rahmawati,F,1988-09-24,tecla.rahmawati@yahoo.com\\nApril,Raquel,Hornich,F,1996-02-08,april.hornich@yahoo.com\\nNayeli,Jesus,Uwais,M,1976-10-29,nayeli.uwais@munoz.com\\nAlexander,James,Seip,M,1993-07-19,alexander.seip@hotmail.com\\nDebra,Irene Viviana,Kraushaar,F,1968-12-15,debra.kraushaar@moon.biz\\nVerner,Jo\\xc3\\xa3o Guilherme,Thamrin,NB,1981-08-26,verner.thamrin@delgado.com\\nDario,Steve,Batista,M,1953-03-09,dario.batista@gmail.com\\nMar\\xc3\\xada Teresa,Mar\\xc3\\xada,Batista,F,1955-12-27,mar\\xc3\\xada.teresa.batista@hotmail.com\\nMiguel,Ekaterina Torben,Grimes,NA,1953-11-26,miguel.grimes@hotmail.com\\nEmanuel,,Grimes,NA,1957-01-25,emanuel.grimes@hotmail.com\\nAnna,Donna,Sutton,F,1962-09-18,anna.sutton@gmail.com\\nJustin,,M\\xc3\\xbagica,M,1977-05-28,justin.m\\xc3\\xbagica@hotmail.com\\nRoberto,Kimberly,M\\xc3\\xbagica,F,1976-10-03,roberto.m\\xc3\\xbagica@gmail.com\\nJames,Amelia,M\\xc3\\xbagica,M,2017-10-22,james.m\\xc3\\xbagica@hotmail.com\\nCarla,,Coronado,F,1989-02-09,carla.coronado@hotmail.com\\nSamantha,N\\xc3\\xbaria Rodrigo,Sutton,F,1994-01-12,samantha.sutton@nguyen.com\\nMichael,Rendy,Sales,M,1956-05-02,michael.sales@petty.com\\nAngelo,James,Lewis,M,1943-06-09,angelo.lewis@hotmail.com\\nTheresa,Kristin,Lewis,F,1945-07-26,theresa.lewis@yahoo.com\\nOmar,Emanuelly Ang\\xc3\\xa9lica,Vaca,F,1988-05-29,omar.vaca@anderson.biz\\nDanielle,Sonia,Cadena,F,1986-10-20,danielle.cadena@hotmail.com\\nNicole,T\\xc3\\xbclay Amy,Prada,F,2000-02-19,nicole.prada@key.com\\nVicente,Renee,Hunt,F,1990-07-19,vicente.hunt@murphy-moore.com\\nTeresa,Zeferino,Montes,M,1991-01-01,teresa.montes@yahoo.com\\nEmigdio,Jos\\xc3\\xa9 Luis,Lancisi,M,1979-05-19,emigdio.lancisi@berry-pittman.com\\nScott,Georg,Melgar,M,1971-06-11,scott.melgar@gmail.com\\nChelsea,Jean,Melgar,F,1971-05-29,chelsea.melgar@yahoo.com\\nFrances,Hayley Monique,Melgar,F,2017-11-28,frances.melgar@yahoo.com\\nMichele,,Melgar,F,2019-07-02,michele.melgar@hotmail.com\\nWilfrido,,Melgar,M,2011-07-26,wilfrido.melgar@hotmail.com\\nLauretta,Elisa Sara,Melgar,F,2016-12-03,lauretta.melgar@gmail.com\\nRachel,Reina,French,F,1982-02-18,rachel.french@morrison-martinez.com\\nFrancisco,Anna,auch Schlauchin,F,1983-07-19,francisco.auch.schlauchin@hotmail.com\\nErika,Kathleen Gemma,Z\\xc3\\xba\\xc3\\xb1iga,F,1961-12-18,erika.z\\xc3\\xba\\xc3\\xb1iga@carpenter.biz\\nZenia,,Valero,F,1999-12-07,zenia.valero@gmail.com\\nEmma,Cindy Paula,Baeza,F,1935-08-17,emma.baeza@hotmail.com\\nMichael,Eric,Hays,T,1988-10-04,michael.hays@gmail.com\\nAlicia,Dawn,Rose,F,1966-01-07,alicia.rose@fisher.net\\n'}"
            ]
          },
          "metadata": {
            "tags": []
          },
          "execution_count": 46
        }
      ]
    },
    {
      "cell_type": "code",
      "metadata": {
        "colab": {
          "base_uri": "https://localhost:8080/"
        },
        "id": "EG1fQykRfpKy",
        "outputId": "ec5e3b7b-26a2-42ee-d9a9-f89de20e4538"
      },
      "source": [
        "from pyspark.sql import SparkSession\r\n",
        "sparksql = SparkSession.builder.master('local[1]').getOrCreate()\r\n",
        "df = sparksql.read.csv(\"passengers_1k.csv\",header=True)\r\n",
        "df.head()"
      ],
      "execution_count": 56,
      "outputs": [
        {
          "output_type": "execute_result",
          "data": {
            "text/plain": [
              "Row(first_name='Patricio', middle_name=None, last_name='Manzanares', gender='M', birthday='1953-10-04', email='patricio.manzanares@gmail.com')"
            ]
          },
          "metadata": {
            "tags": []
          },
          "execution_count": 56
        }
      ]
    },
    {
      "cell_type": "markdown",
      "metadata": {
        "id": "s3uNOag8oJn0"
      },
      "source": [
        "Transforming the names and standardizing the data \r\n",
        "\r\n"
      ]
    },
    {
      "cell_type": "code",
      "metadata": {
        "id": "wFTQNjoCoUbv"
      },
      "source": [
        "from pyspark.sql import SparkSession\r\n",
        "from pyspark.sql.functions import initcap, col\r\n",
        "passengers_df = df.withColumn('first_name', initcap(col('first_name')))\\\r\n",
        "                             .withColumn('middle_name', initcap(col('middle_name')))\\\r\n",
        "                             .withColumn('last_name', initcap(col('last_name')))"
      ],
      "execution_count": 57,
      "outputs": []
    },
    {
      "cell_type": "markdown",
      "metadata": {
        "id": "X8GVRE0xo48u"
      },
      "source": [
        "concatnating name into single column"
      ]
    },
    {
      "cell_type": "code",
      "metadata": {
        "colab": {
          "base_uri": "https://localhost:8080/"
        },
        "id": "a87ugGHfo9ak",
        "outputId": "5bbf0172-4831-46f9-89a0-a95da6f454fd"
      },
      "source": [
        "passengers_df = passengers_df.withColumn('full_name',\r\n",
        "                                         concat_ws(\" \",\r\n",
        "                                                   col('first_name'),\r\n",
        "                                                   col('middle_name'),\r\n",
        "                                                   col('last_name')))\r\n",
        "\r\n",
        "passengers_df.head(10)"
      ],
      "execution_count": 60,
      "outputs": [
        {
          "output_type": "execute_result",
          "data": {
            "text/plain": [
              "[Row(first_name='Patricio', middle_name=None, last_name='Manzanares', gender='M', birthday='1953-10-04', email='patricio.manzanares@gmail.com', full_name='Patricio Manzanares'),\n",
              " Row(first_name='Sofía', middle_name='Lorena', last_name='Manzanares', gender='F', birthday='1947-11-30', email='sofía.manzanares@hotmail.com', full_name='Sofía Lorena Manzanares'),\n",
              " Row(first_name='Jaime', middle_name='Emanuelly Heather', last_name='Tolentino', gender='F', birthday='1984-07-10', email='jaime.tolentino@yahoo.com', full_name='Jaime Emanuelly Heather Tolentino'),\n",
              " Row(first_name='Oreste', middle_name='Ajimin', last_name='Tolentino', gender='M', birthday='1985-03-19', email='oreste.tolentino@gmail.com', full_name='Oreste Ajimin Tolentino'),\n",
              " Row(first_name='Alexandre', middle_name='John', last_name='Tolentino', gender='T', birthday='2016-02-05', email='alexandre.tolentino@yahoo.com', full_name='Alexandre John Tolentino'),\n",
              " Row(first_name='Alessandra', middle_name='Leonardo', last_name='Anderson', gender='F', birthday='1968-05-31', email='alessandra.anderson@yahoo.com', full_name='Alessandra Leonardo Anderson'),\n",
              " Row(first_name='Marvin', middle_name='Joseph', last_name='Anderson', gender='M', birthday='1966-07-30', email='marvin.anderson@yahoo.com', full_name='Marvin Joseph Anderson'),\n",
              " Row(first_name='Josep', middle_name='Michelotto', last_name='Anderson', gender='GN', birthday='2015-11-17', email='josep.anderson@gmail.com', full_name='Josep Michelotto Anderson'),\n",
              " Row(first_name='Jennifer', middle_name='Rebekah', last_name='Meyer', gender='F', birthday='1983-09-05', email='jennifer.meyer@hotmail.com', full_name='Jennifer Rebekah Meyer'),\n",
              " Row(first_name='Virginia', middle_name='Rosita', last_name='Meza', gender='F', birthday='1996-06-09', email='virginia.meza@yahoo.com', full_name='Virginia Rosita Meza')]"
            ]
          },
          "metadata": {
            "tags": []
          },
          "execution_count": 60
        }
      ]
    },
    {
      "cell_type": "code",
      "metadata": {
        "id": "i9n6_PXjpqbE"
      },
      "source": [
        "#saving as a parquet file\r\n",
        "passengers_df.write.parquet(\"passengers.parquet\")\r\n"
      ],
      "execution_count": 63,
      "outputs": []
    },
    {
      "cell_type": "code",
      "metadata": {
        "id": "lnwQC0REpp5U"
      },
      "source": [
        ""
      ],
      "execution_count": null,
      "outputs": []
    }
  ]
}